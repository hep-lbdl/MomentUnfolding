{
 "cells": [
  {
   "cell_type": "code",
   "execution_count": 2,
   "metadata": {},
   "outputs": [],
   "source": [
    "import numpy as np\n",
    "import matplotlib.pyplot as plt\n",
    "from matplotlib import gridspec\n",
    "from sklearn.model_selection import train_test_split\n",
    "import tensorflow as tf\n",
    "from tensorflow.keras.layers import Dense, Input, Layer, concatenate, ReLU\n",
    "from tensorflow.keras.models import Model\n",
    "import tensorflow.keras.backend as K\n",
    "from tensorflow.keras.layers import BatchNormalization\n",
    "from scipy.stats import norm\n",
    "from scipy.stats import zscore\n",
    "from keras import backend\n",
    "import tensorflow as tf\n",
    "\n",
    "plt.rc('font', size=20)\n",
    "plt.rcParams[\"font.family\"] = \"serif\""
   ]
  },
  {
   "cell_type": "code",
   "execution_count": 3,
   "metadata": {},
   "outputs": [],
   "source": [
    "physical_devices = tf.config.list_physical_devices('GPU')\n",
    "for device in physical_devices:\n",
    "    tf.config.experimental.set_memory_growth(device, True)"
   ]
  },
  {
   "cell_type": "code",
   "execution_count": 4,
   "metadata": {},
   "outputs": [],
   "source": [
    "a = 0\n",
    "s = 0\n",
    "\n",
    "w_true = np.random.normal(-0.5,1,100000) #particle level data\n",
    "w_reco = w_true #np.random.normal(-0.5, np.sqrt(1 + (a**2)*(s**2)), 100000) #detector level data\n",
    "w_true_alt = np.random.normal(0,1,100000) #particle level simulation\n",
    "w_reco_alt = w_true_alt#np.random.normal(0, np.sqrt(1 + (a**2)*(s**2)), 100000) #detector level simulation"
   ]
  },
  {
   "cell_type": "code",
   "execution_count": 5,
   "metadata": {},
   "outputs": [],
   "source": [
    "# clip model weights to a given hypercube\n",
    "class ClipConstraint(tf.keras.constraints.Constraint):\n",
    "\t# set clip value when initialized\n",
    "\tdef __init__(self, clip_value):\n",
    "\t\tself.clip_value = clip_value\n",
    " \n",
    "\t# clip model weights to hypercube\n",
    "\tdef __call__(self, weights):\n",
    "\t\treturn backend.clip(weights, -self.clip_value, self.clip_value)\n",
    " \n",
    "\t# get the config\n",
    "\tdef get_config(self):\n",
    "\t\treturn {'clip_value': self.clip_value}\n",
    "\n",
    "const = ClipConstraint(0.01)\n",
    "\n",
    "\n",
    "def weighted_wasserstein_loss(y_true, y_pred):\n",
    "    weights = tf.gather(y_pred, [1], axis=1) # event weights\n",
    "    y_pred = tf.gather(y_pred, [0], axis=1) # actual y_pred for loss\n",
    "    \n",
    "    weights_1 = K.sum(y_true*weights)\n",
    "    weights_0 = K.sum((1-y_true)*weights)\n",
    "    \n",
    "    #tf.print(\"weights\",weights_0,weights_1)\n",
    "    \n",
    "    # Clip the prediction value to prevent NaN's and Inf's\n",
    "    epsilon = K.epsilon()\n",
    "    y_pred = K.clip(y_pred, epsilon, 1. - epsilon)\n",
    "    t_loss = backend.mean(weights *y_true * y_pred)\n",
    "    return K.mean(t_loss)\n",
    "\n",
    "def weighted_gan_wasserstein_loss(y_true, y_pred):\n",
    "    weights = tf.gather(y_pred, [1], axis=1) # event weights\n",
    "    y_pred = tf.gather(y_pred, [0], axis=1) # actual y_pred for loss\n",
    "    \n",
    "    weights_1 = K.sum(y_true*weights)\n",
    "    weights_0 = K.sum((1-y_true)*weights)\n",
    "    \n",
    "    #tf.print(\"weights\",weights_0,weights_1)\n",
    "    \n",
    "    # Clip the prediction value to prevent NaN's and Inf's\n",
    "    epsilon = K.epsilon()\n",
    "    y_pred = K.clip(y_pred, epsilon, 1. - epsilon)\n",
    "    t_loss = backend.mean(weights *y_true * y_pred)\n",
    "    return -1*K.mean(t_loss)"
   ]
  },
  {
   "cell_type": "code",
   "execution_count": 6,
   "metadata": {},
   "outputs": [],
   "source": [
    "#generator\n",
    "mymodel_inputtest_unifold = Input(shape=(1,))\n",
    "hidden_layer_1_unifold = Dense(50, activation='ReLU',use_bias=True)(mymodel_inputtest_unifold)\n",
    "batch_norm_1_unifold = BatchNormalization()(hidden_layer_1_unifold)\n",
    "hidden_layer_2_unifold = Dense(50, activation='ReLU',use_bias=True)(batch_norm_1_unifold)\n",
    "batch_norm_2_unifold = BatchNormalization()(hidden_layer_2_unifold)\n",
    "hidden_layer_3_unifold = Dense(50, activation='ReLU',use_bias=True)(batch_norm_2_unifold)\n",
    "outputs_unifold = tf.exp(Dense(1, activation='linear',use_bias=True)(hidden_layer_3_unifold))\n",
    "model_generator_unifold = Model(mymodel_inputtest_unifold, outputs_unifold)\n",
    "\n",
    "#discriminator\n",
    "inputs_disc_unifold = Input((1, ))\n",
    "hidden_layer_1_disc_unifold = Dense(50, activation='LeakyReLU', kernel_constraint=const)(inputs_disc_unifold)\n",
    "batch_norm_1_disc_unifold = BatchNormalization()(hidden_layer_1_disc_unifold)\n",
    "hidden_layer_2_disc_unifold = Dense(50, activation='LeakyReLU', kernel_constraint=const)(batch_norm_1_disc_unifold)\n",
    "batch_norm_2_disc_unifold = BatchNormalization()(hidden_layer_2_disc_unifold)\n",
    "hidden_layer_3_disc_unifold = Dense(50, activation='LeakyReLU', kernel_constraint=const)(batch_norm_2_disc_unifold)\n",
    "outputs_disc_unifold = Dense(1, activation='linear')(hidden_layer_3_disc_unifold)\n",
    "model_discrimantor_unifold = Model(inputs=inputs_disc_unifold, outputs=outputs_disc_unifold)\n",
    "\n",
    "opt = tf.keras.optimizers.RMSprop(learning_rate=0.00005)\n",
    "\n",
    "model_discrimantor_unifold.compile(loss=weighted_wasserstein_loss, optimizer=opt)\n",
    "\n",
    "#GAN\n",
    "model_discrimantor_unifold.trainable = False\n",
    "mymodel_gan_unifold = Input(shape=(1,))\n",
    "gan_model_unifold = Model(inputs=mymodel_gan_unifold,outputs=concatenate([model_discrimantor_unifold(mymodel_gan_unifold),model_generator_unifold(mymodel_gan_unifold)]))\n",
    "\n",
    "gan_model_unifold.compile(loss=weighted_gan_wasserstein_loss, optimizer=opt)"
   ]
  },
  {
   "cell_type": "code",
   "execution_count": 7,
   "metadata": {},
   "outputs": [
    {
     "name": "stdout",
     "output_type": "stream",
     "text": [
      "on epoch 0 0.9822868 0.6966539 1.1770343\n",
      "on epoch 1 1.0077397 0.78008574 1.7324419\n",
      "on epoch 2 1.0801876 0.76666397 2.9462855\n",
      "on epoch 3 1.136331 0.6536729 3.500264\n",
      "on epoch 4 1.0029609 0.42312986 1.9825363\n"
     ]
    }
   ],
   "source": [
    "xvals_1 = np.concatenate([w_true_alt,w_true])\n",
    "yvals_1 = np.concatenate([np.ones(len(w_true_alt)),np.zeros(len(w_true))])\n",
    "\n",
    "X_std = zscore(xvals_1)\n",
    "\n",
    "X_train_1, X_test_1, Y_train_1, Y_test_1 = train_test_split(X_std, yvals_1)\n",
    "\n",
    "n_epochs = 5\n",
    "n_batch = 128*10\n",
    "n_batches = len(X_train_1) // n_batch\n",
    "n_critic = 5\n",
    "losses = []\n",
    "\n",
    "for i in range(n_epochs):\n",
    "    mypreds = model_generator_unifold.predict(X_test_1,batch_size=1000)\n",
    "    print(\"on epoch\",i,np.mean(mypreds),np.min(mypreds),np.max(mypreds))\n",
    "    for j in range(n_batches):\n",
    "        \n",
    "        for _ in range(n_critic):\n",
    "\n",
    "            X_batch = X_train_1[j*n_batch:(j+1)*n_batch]\n",
    "            Y_batch = Y_train_1[j*n_batch:(j+1)*n_batch]\n",
    "            W_batch = model_generator_unifold(X_batch)\n",
    "            W_batch = np.array(W_batch).flatten()\n",
    "            W_batch[Y_batch==1] = 1\n",
    "            #W_batch[Y_batch==0] = 1\n",
    "\n",
    "            mypreds = model_generator_unifold.predict(X_batch,batch_size=1000)\n",
    "            #print(\"     on batch=\",j,np.mean(mypreds),np.min(mypreds),np.max(mypreds))\n",
    "\n",
    "            Y_batch_2 = np.stack((Y_batch, W_batch), axis=1)\n",
    "            model_discrimantor_unifold.train_on_batch(X_batch, Y_batch_2)\n",
    "        \n",
    "        losses += [gan_model_unifold.train_on_batch(X_batch[Y_batch==0],np.zeros(len(X_batch[Y_batch==0])))]"
   ]
  },
  {
   "cell_type": "code",
   "execution_count": 46,
   "metadata": {},
   "outputs": [
    {
     "data": {
      "image/png": "[encoded data removed]",
      "text/plain": [
       "<Figure size 576x432 with 1 Axes>"
      ]
     },
     "metadata": {
      "needs_background": "light"
     },
     "output_type": "display_data"
    }
   ],
   "source": [
    "#bins = np.linspace(0,1,30)\n",
    "mypreds = model_generator_unifold.predict(X_test_1,batch_size=1000)\n",
    "fig, ax = plt.subplots(figsize=(8, 6))\n",
    "bins = np.linspace(-5, 5)\n",
    "_,_,_=plt.hist(X_test_1[Y_test_1==1],bins=bins,alpha=0.5,label=\"truth\",density=True, zorder=-1)\n",
    "_,_,_=plt.hist(X_test_1[Y_test_1==0],bins=bins,alpha=0.5,label=\"gen\",density=True, zorder=0)\n",
    "_,_,_=plt.hist(X_test_1[Y_test_1==0],bins=bins,weights=mypreds[Y_test_1==0],histtype=\"step\",color=\"red\",ls=\":\", lw=2,label=\"weighted MC\",density=True, zorder=1)\n",
    "plt.legend(fontsize=15)\n",
    "plt.ylabel(\"Trials\")\n",
    "plt.xlabel(\"$x$\")\n",
    "#plt.savefig(\"Unifold.pdf\", bbox_inches='tight', transparent=True)\n",
    "plt.show()"
   ]
  },
  {
   "cell_type": "code",
   "execution_count": 47,
   "metadata": {},
   "outputs": [
    {
     "data": {
      "image/png": "[encoded data removed]",
      "text/plain": [
       "<Figure size 432x288 with 1 Axes>"
      ]
     },
     "metadata": {
      "needs_background": "light"
     },
     "output_type": "display_data"
    }
   ],
   "source": [
    "plt.hist(mypreds)\n",
    "plt.show()"
   ]
  },
  {
   "cell_type": "code",
   "execution_count": 48,
   "metadata": {},
   "outputs": [
    {
     "data": {
      "image/png": "[encoded data removed]",
      "text/plain": [
       "<Figure size 432x288 with 1 Axes>"
      ]
     },
     "metadata": {
      "needs_background": "light"
     },
     "output_type": "display_data"
    }
   ],
   "source": [
    "plt.plot(range(len(losses)), losses)\n",
    "plt.show()"
   ]
  },
  {
   "cell_type": "code",
   "execution_count": null,
   "metadata": {},
   "outputs": [],
   "source": []
  }
 ],
 "metadata": {
  "kernelspec": {
   "display_name": "Python 3",
   "language": "python",
   "name": "python3"
  },
  "language_info": {
   "codemirror_mode": {
    "name": "ipython",
    "version": 3
   },
   "file_extension": ".py",
   "mimetype": "text/x-python",
   "name": "python",
   "nbconvert_exporter": "python",
   "pygments_lexer": "ipython3",
   "version": "3.8.5"
  }
 },
 "nbformat": 4,
 "nbformat_minor": 4
}
