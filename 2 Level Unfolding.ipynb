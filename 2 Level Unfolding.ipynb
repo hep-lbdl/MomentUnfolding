{
 "cells": [
  {
   "cell_type": "code",
   "execution_count": 17,
   "metadata": {},
   "outputs": [],
   "source": [
    "import numpy as np\n",
    "import os\n",
    "import matplotlib.pyplot as plt\n",
    "import energyflow as ef\n",
    "import energyflow.archs\n",
    "from energyflow.archs import PFN\n",
    "from matplotlib import gridspec\n",
    "from sklearn.model_selection import train_test_split\n",
    "from sklearn.preprocessing import StandardScaler\n",
    "from scipy.stats import zscore\n",
    "import tensorflow as tf\n",
    "from tensorflow.keras.layers import Dense, Input, Layer, concatenate\n",
    "from tensorflow.keras.models import Model\n",
    "import tensorflow.keras.backend as K\n",
    "from tensorflow.keras.layers import BatchNormalization\n",
    "\n",
    "plt.rc('font', size=20)\n",
    "plt.rcParams[\"font.family\"] = \"serif\"\n",
    "\n",
    "os.environ[\"CUDA_VISIBLE_DEVICES\"] = \"1\" # pick a number < 4 on ML4HEP\n",
    "physical_devices = tf.config.list_physical_devices('GPU') \n",
    "tf.config.experimental.set_memory_growth(physical_devices[0], True)"
   ]
  },
  {
   "cell_type": "code",
   "execution_count": 18,
   "metadata": {},
   "outputs": [],
   "source": [
    "normalize = True\n",
    "data_size = 10**6\n",
    "n_moments = 2"
   ]
  },
  {
   "cell_type": "code",
   "execution_count": 3,
   "metadata": {},
   "outputs": [
    {
     "name": "stderr",
     "output_type": "stream",
     "text": [
      "<__array_function__ internals>:5: VisibleDeprecationWarning: Creating an ndarray from ragged nested sequences (which is a list-or-tuple of lists-or-tuples-or ndarrays with different lengths or shapes) is deprecated. If you meant to do this, you must specify 'dtype=object' when creating the ndarray.\n"
     ]
    }
   ],
   "source": [
    "#These are the same datasets from the OmniFold paper https://arxiv.org/abs/1911.09107.  More detail at https://energyflow.network/docs/datasets/.\n",
    "#Pythia and Herwig are two generators; one will be treated here as the \"simulation\" and one as \"data\".\n",
    "datasets = {'Pythia26': ef.zjets_delphes.load('Pythia26', num_data=data_size),\n",
    "            'Herwig': ef.zjets_delphes.load('Herwig', num_data=data_size)}"
   ]
  },
  {
   "cell_type": "code",
   "execution_count": 19,
   "metadata": {},
   "outputs": [],
   "source": [
    "x = dict()\n",
    "p = dict()\n",
    "if normalize:\n",
    "    x['gen'] = zscore(datasets['Pythia26']['gen_widths']) #gen = particle leve\n",
    "    x['sim'] = zscore(datasets['Pythia26']['sim_widths']) #sim = detector level\n",
    "    x['truth'] = zscore(datasets['Herwig']['gen_widths'])\n",
    "    x['data'] = zscore(datasets['Herwig']['sim_widths'])\n",
    "\n",
    "    p['gen'] = zscore(datasets['Pythia26']['gen_jets'][:,0]) #gen = particle level\n",
    "    p['sim'] = zscore(datasets['Pythia26']['sim_jets'][:,0]) #sim = detector level\n",
    "    p['truth'] = zscore(datasets['Herwig']['gen_jets'][:,0])\n",
    "    p['data'] = zscore(datasets['Herwig']['sim_jets'][:,0])\n",
    "\n",
    "else:\n",
    "    x['gen'] =datasets['Pythia26']['gen_widths'] #gen = particle leve\n",
    "    x['sim'] = datasets['Pythia26']['sim_widths'] #sim = detector level\n",
    "    x['truth'] = datasets['Herwig']['gen_widths']\n",
    "    x['data'] = datasets['Herwig']['sim_widths']\n",
    "\n",
    "    p['gen'] = datasets['Pythia26']['gen_jets'][:,0] #gen = particle level\n",
    "    p['sim'] = datasets['Pythia26']['sim_jets'][:,0] #sim = detector level\n",
    "    p['truth'] = datasets['Herwig']['gen_jets'][:,0]\n",
    "    p['data'] = datasets['Herwig']['sim_jets'][:,0]"
   ]
  },
  {
   "cell_type": "code",
   "execution_count": 20,
   "metadata": {},
   "outputs": [],
   "source": [
    "initializer = tf.keras.initializers.RandomUniform(minval=-5., maxval=5.)\n",
    "\n",
    "class MyLayer(Layer):\n",
    "\n",
    "    def __init__(self, myc, **kwargs):\n",
    "        self.myinit = myc\n",
    "        super(MyLayer, self).__init__(**kwargs)\n",
    "\n",
    "    def build(self, input_shape):\n",
    "        # Create a trainable weight variable for this layer.\n",
    "        self._l = self.add_weight(name='l', \n",
    "                                    shape=(n_moments,),\n",
    "                                    initializer=tf.keras.initializers.Constant(self.myinit), \n",
    "                                    trainable=True)\n",
    "        \n",
    "        super(MyLayer, self).build(input_shape)  # Be sure to call this at the end\n",
    "\n",
    "    def call(self, x):\n",
    "        return tf.exp(sum([self._l[i]* x**(i+1) for i in range(n_moments)]))"
   ]
  },
  {
   "cell_type": "code",
   "execution_count": 21,
   "metadata": {},
   "outputs": [],
   "source": [
    "def weighted_binary_crossentropy(y_true, y_pred):\n",
    "    weights = tf.gather(y_true, [1], axis=1) # event weights\n",
    "    y_true = tf.gather(y_true, [0], axis=1) # actual y_true for loss\n",
    "\n",
    "    weights_1 = K.sum(y_true*weights)\n",
    "    weights_0 = K.sum((1-y_true)*weights)\n",
    "\n",
    "    # Clip the prediction value to prevent NaN's and Inf's\n",
    "    epsilon = K.epsilon()\n",
    "    y_pred = K.clip(y_pred, epsilon, 1. - epsilon)\n",
    "    t_loss = -weights * ((y_true) * K.log(y_pred)/weights_1 +\n",
    "                         (1 - y_true) * K.log(1 - y_pred)/weights_0)\n",
    "    return K.mean(t_loss)\n",
    "\n",
    "def weighted_binary_crossentropy_GAN(y_true, y_pred):\n",
    "    weights = tf.gather(y_pred, [1], axis=1) # event weights\n",
    "    y_pred = tf.gather(y_pred, [0], axis=1) # actual y_pred for loss\n",
    "\n",
    "    weights_1 = K.sum(y_true*weights)\n",
    "    weights_0 = K.sum((1-y_true)*weights)\n",
    "\n",
    "    #tf.print(\"weights\",weights_0,weights_1)\n",
    "\n",
    "    # Clip the prediction value to prevent NaN's and Inf's\n",
    "    epsilon = K.epsilon()\n",
    "    y_pred = K.clip(y_pred, epsilon, 1. - epsilon)\n",
    "    t_loss = weights * ((1 - y_true) * K.log(1 - y_pred)/weights_0)\n",
    "    return K.mean(t_loss)"
   ]
  },
  {
   "cell_type": "code",
   "execution_count": 22,
   "metadata": {},
   "outputs": [],
   "source": [
    "myc = 0.1\n",
    "mymodel_inputtest = Input(shape=(1,))\n",
    "    \n",
    "mymodel_test = MyLayer(myc)(mymodel_inputtest)\n",
    "model_generator = Model(mymodel_inputtest, mymodel_test)\n",
    "\n",
    "inputs_disc = Input((1, ))\n",
    "hidden_layer_1_disc = Dense(50, activation='relu')(inputs_disc)\n",
    "hidden_layer_2_disc = Dense(50, activation='relu')(hidden_layer_1_disc)\n",
    "hidden_layer_3_disc = Dense(50, activation='relu')(hidden_layer_2_disc)\n",
    "outputs_disc = Dense(1, activation='sigmoid')(hidden_layer_3_disc)\n",
    "model_discrimantor = Model(inputs=inputs_disc, outputs=outputs_disc)\n",
    "\n",
    "model_discrimantor.compile(loss=weighted_binary_crossentropy, optimizer='adam')\n",
    "\n",
    "model_discrimantor.trainable = False\n",
    "mymodel_gan = Input(shape=(1,))\n",
    "gan_model = Model(inputs=mymodel_gan,outputs=concatenate([model_discrimantor(mymodel_gan),model_generator(mymodel_gan)]))\n",
    "\n",
    "\n",
    "gan_model.compile(loss=weighted_binary_crossentropy_GAN, optimizer='adam')"
   ]
  },
  {
   "cell_type": "code",
   "execution_count": 23,
   "metadata": {},
   "outputs": [],
   "source": [
    "xvals = np.stack([np.concatenate([x['gen'],x['truth']]),\n",
    "                  np.concatenate([x['sim'],x['data']])], axis = 1)\n",
    "yvals = np.concatenate([np.ones(len(x['sim'])),np.zeros(len(x['data']))])\n",
    "\n",
    "X_train, X_test, Y_train, Y_test = train_test_split(xvals, yvals)"
   ]
  },
  {
   "cell_type": "code",
   "execution_count": 24,
   "metadata": {},
   "outputs": [
    {
     "name": "stdout",
     "output_type": "stream",
     "text": [
      "on epoch= 0 [[-0.04699842  0.02400699]]\n",
      "on epoch= 1 [[-0.05884791  0.02813422]]\n",
      "on epoch= 2 [[-0.05430708  0.03199748]]\n",
      "on epoch= 3 [[-0.05391467  0.03290164]]\n",
      "on epoch= 4 [[-0.05494386  0.03288316]]\n",
      "on epoch= 5 [[-0.05436832  0.03266941]]\n",
      "on epoch= 6 [[-0.05604746  0.03123366]]\n",
      "on epoch= 7 [[-0.05864517  0.02957032]]\n",
      "on epoch= 8 [[-0.05693305  0.03209328]]\n",
      "on epoch= 9 [[-0.05961331  0.02998061]]\n"
     ]
    }
   ],
   "source": [
    "n_epochs = 10\n",
    "n_batch = 128*10\n",
    "n_batches = X_train.shape[0] // n_batch\n",
    "\n",
    "for i in range(n_epochs):\n",
    "    for j in range(n_batches):\n",
    "        X_batch = X_train[j*n_batch: (j+1)*n_batch]\n",
    "        Y_batch = Y_train[j*n_batch:(j+1)*n_batch]\n",
    "        W_batch = np.array(model_generator(X_batch[:, 0])).flatten()\n",
    "        W_batch[Y_batch==1] = 1\n",
    "\n",
    "        Y_batch_2 = np.stack((Y_batch, W_batch), axis=1)\n",
    "\n",
    "        model_discrimantor.train_on_batch(X_batch[:, 1], Y_batch_2)\n",
    "\n",
    "        gan_model.train_on_batch(X_batch[:, 0][Y_batch==0],np.zeros(len(X_batch[Y_batch==0])))\n",
    "\n",
    "    mylambda = np.array(model_generator.layers[-1].get_weights())\n",
    "    print(\"on epoch=\",i, mylambda)"
   ]
  },
  {
   "cell_type": "code",
   "execution_count": 25,
   "metadata": {},
   "outputs": [],
   "source": [
    "arr = np.exp(np.sum([mylambda[:, k]*x['gen']**(k+1) for k in range(n_moments)],axis = 0))\n",
    "weights = np.concatenate([arr*len(x['gen'])/np.sum(arr), np.ones(len(x['gen']))])\n",
    "\n",
    "X_train, X_test, Y_train, Y_test, w_train, w_test = train_test_split(xvals, yvals, weights)"
   ]
  },
  {
   "cell_type": "code",
   "execution_count": 26,
   "metadata": {},
   "outputs": [
    {
     "data": {
      "image/png": "[encoded data removed]",
      "text/plain": [
       "<Figure size 432x288 with 1 Axes>"
      ]
     },
     "metadata": {
      "needs_background": "light"
     },
     "output_type": "display_data"
    }
   ],
   "source": [
    "nbins = 30\n",
    "bins = np.linspace(X_test.min(),X_test.max(),nbins)\n",
    "\n",
    "_,_,_=plt.hist(X_test[Y_test==1][:, 0], bins=bins, alpha=0.5,label=\"truth\")\n",
    "_,_,_=plt.hist(X_test[Y_test==0][:, 0], bins=bins, alpha=0.5,label=\"gen\")\n",
    "_,_,_=plt.hist(X_test[Y_test==0][:, 0], bins=bins, weights=w_test[Y_test==0],histtype=\"step\",color=\"r\",ls=\":\", lw=4,label=\"weighted gen\")\n",
    "plt.legend(fontsize=15)\n",
    "plt.xlabel(\"Jet width\")\n",
    "plt.ylabel(\"Trials\")\n",
    "plt.savefig(\"jetexample.pdf\", bbox_inches='tight', transparent=True)"
   ]
  },
  {
   "cell_type": "code",
   "execution_count": 14,
   "metadata": {
    "scrolled": true
   },
   "outputs": [
    {
     "data": {
      "text/plain": [
       "(array([1.20889e+05, 1.86078e+05, 8.71650e+04, 4.73250e+04, 2.80480e+04,\n",
       "        1.68400e+04, 9.26200e+03, 3.63200e+03, 6.90000e+02, 7.10000e+01]),\n",
       " array([-1.41060373, -0.73348156, -0.0563594 ,  0.62076277,  1.29788493,\n",
       "         1.97500709,  2.65212926,  3.32925142,  4.00637359,  4.68349575,\n",
       "         5.36061792]),\n",
       " <BarContainer object of 10 artists>)"
      ]
     },
     "execution_count": 14,
     "metadata": {},
     "output_type": "execute_result"
    },
    {
     "data": {
      "image/png": "[encoded data removed]",
      "text/plain": [
       "<Figure size 432x288 with 1 Axes>"
      ]
     },
     "metadata": {
      "needs_background": "light"
     },
     "output_type": "display_data"
    }
   ],
   "source": [
    "plt.hist(X_test[:, 0])"
   ]
  },
  {
   "cell_type": "code",
   "execution_count": null,
   "metadata": {},
   "outputs": [],
   "source": [
    "import numpy as np\n",
    "import matplotlib.pyplot as plt\n",
    "plt.rc('font', size=20)\n",
    "plt.rcParams[\"font.family\"] = \"serif\""
   ]
  },
  {
   "cell_type": "code",
   "execution_count": null,
   "metadata": {},
   "outputs": [],
   "source": [
    "a, b, c = plt.hist(p_gen/1000, bins = np.linspace(.2, .5, 50))\n",
    "d, e, f = plt.hist(p_truth/1000, bins = np.linspace(.2, .5, 50))"
   ]
  },
  {
   "cell_type": "code",
   "execution_count": null,
   "metadata": {},
   "outputs": [],
   "source": [
    "plt.plot(d/(a+10e-5))\n",
    "plt.ylim(0.8,1.2)\n",
    "np.polyfit([(b[i] + b[i+1])/2 for i in range(len(b)-1)], d/(a+10e-5), 1)"
   ]
  },
  {
   "cell_type": "code",
   "execution_count": null,
   "metadata": {},
   "outputs": [],
   "source": [
    "c, m = np.polyfit([(b[i] + b[i+1])/2 for i in range(len(b)-1)], d/(a+10e-5), 1)"
   ]
  },
  {
   "cell_type": "code",
   "execution_count": null,
   "metadata": {},
   "outputs": [],
   "source": [
    "print(c)"
   ]
  },
  {
   "cell_type": "code",
   "execution_count": null,
   "metadata": {},
   "outputs": [],
   "source": []
  }
 ],
 "metadata": {
  "kernelspec": {
   "display_name": "Python 3",
   "language": "python",
   "name": "python3"
  },
  "language_info": {
   "codemirror_mode": {
    "name": "ipython",
    "version": 3
   },
   "file_extension": ".py",
   "mimetype": "text/x-python",
   "name": "python",
   "nbconvert_exporter": "python",
   "pygments_lexer": "ipython3",
   "version": "3.8.13"
  }
 },
 "nbformat": 4,
 "nbformat_minor": 4
}
