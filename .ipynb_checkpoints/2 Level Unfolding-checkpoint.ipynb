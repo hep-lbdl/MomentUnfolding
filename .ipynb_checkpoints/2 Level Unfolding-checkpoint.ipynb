{
 "cells": [
  {
   "cell_type": "code",
   "execution_count": 1,
   "metadata": {},
   "outputs": [],
   "source": [
    "import numpy as np\n",
    "import os\n",
    "import matplotlib.pyplot as plt\n",
    "import energyflow as ef\n",
    "import energyflow.archs\n",
    "from energyflow.archs import PFN\n",
    "from matplotlib import gridspec\n",
    "from sklearn.model_selection import train_test_split\n",
    "import tensorflow as tf\n",
    "from tensorflow.keras.layers import Dense, Input, Layer, concatenate\n",
    "from tensorflow.keras.models import Model\n",
    "import tensorflow.keras.backend as K\n",
    "from tensorflow.keras.layers import BatchNormalization\n",
    "\n",
    "plt.rc('font', size=20)\n",
    "plt.rcParams[\"font.family\"] = \"serif\"\n",
    "\n",
    "os.environ[\"CUDA_VISIBLE_DEVICES\"] = \"1\" # pick a number < 4 on ML4HEP\n",
    "physical_devices = tf.config.list_physical_devices('GPU') \n",
    "tf.config.experimental.set_memory_growth(physical_devices[0], True)"
   ]
  },
  {
   "cell_type": "code",
   "execution_count": 3,
   "metadata": {},
   "outputs": [
    {
     "name": "stderr",
     "output_type": "stream",
     "text": [
      "<__array_function__ internals>:5: VisibleDeprecationWarning: Creating an ndarray from ragged nested sequences (which is a list-or-tuple of lists-or-tuples-or ndarrays with different lengths or shapes) is deprecated. If you meant to do this, you must specify 'dtype=object' when creating the ndarray.\n"
     ]
    }
   ],
   "source": [
    "#These are the same datasets from the OmniFold paper https://arxiv.org/abs/1911.09107.  More detail at https://energyflow.network/docs/datasets/.\n",
    "#Pythia and Herwig are two generators; one will be treated here as the \"simulation\" and one as \"data\".\n",
    "datasets = {'Pythia26': ef.zjets_delphes.load('Pythia26', num_data=1000000),\n",
    "            'Herwig': ef.zjets_delphes.load('Herwig', num_data=1000000)}"
   ]
  },
  {
   "cell_type": "code",
   "execution_count": 4,
   "metadata": {},
   "outputs": [],
   "source": [
    "w_gen = datasets['Pythia26']['gen_widths'] #gen = particle level\n",
    "w_sim = datasets['Pythia26']['sim_widths'] #sim = detector level\n",
    "w_truth = datasets['Herwig']['gen_widths']\n",
    "w_data = datasets['Herwig']['sim_widths']"
   ]
  },
  {
   "cell_type": "code",
   "execution_count": 4,
   "metadata": {
    "scrolled": true
   },
   "outputs": [
    {
     "data": {
      "image/png": "[encoded data removed]",
      "text/plain": [
       "<Figure size 432x288 with 1 Axes>"
      ]
     },
     "metadata": {
      "needs_background": "light"
     },
     "output_type": "display_data"
    }
   ],
   "source": [
    "plt.hist(w_true, bins=np.linspace(0,1,30), alpha=0.5)\n",
    "#plt.hist(w_true_alt, bins=np.linspace(0,1,30), alpha=0.5)\n",
    "plt.hist(w_reco, bins=np.linspace(0,1,30), alpha=0.5)\n",
    "plt.show()"
   ]
  },
  {
   "cell_type": "code",
   "execution_count": 5,
   "metadata": {},
   "outputs": [],
   "source": [
    "initializer = tf.keras.initializers.RandomUniform(minval=-5., maxval=5.)\n",
    "n = 1\n",
    "\n",
    "class MyLayer(Layer):\n",
    "\n",
    "    def __init__(self, myc, **kwargs):\n",
    "        self.myinit = myc\n",
    "        super(MyLayer, self).__init__(**kwargs)\n",
    "\n",
    "    def build(self, input_shape):\n",
    "        # Create a trainable weight variable for this layer.\n",
    "        self._lambda = self.add_weight(name='lambda', \n",
    "                                    shape=(n,),\n",
    "                                    initializer=tf.keras.initializers.Constant(self.myinit), \n",
    "                                    trainable=True)\n",
    "        \n",
    "        super(MyLayer, self).build(input_shape)  # Be sure to call this at the end\n",
    "\n",
    "    def call(self, x):\n",
    "        #return tf.exp(self._lambda1 * x + self._lambda0)\n",
    "        return tf.exp(sum([self._lambda[i]* x**(i+1) for i in range(n)]))"
   ]
  },
  {
   "cell_type": "code",
   "execution_count": 6,
   "metadata": {},
   "outputs": [],
   "source": [
    "def weighted_binary_crossentropy(y_true, y_pred):\n",
    "    weights = tf.gather(y_true, [1], axis=1) # event weights\n",
    "    y_true = tf.gather(y_true, [0], axis=1) # actual y_true for loss\n",
    "\n",
    "    weights_1 = K.sum(y_true*weights)\n",
    "    weights_0 = K.sum((1-y_true)*weights)\n",
    "\n",
    "    # Clip the prediction value to prevent NaN's and Inf's\n",
    "    epsilon = K.epsilon()\n",
    "    y_pred = K.clip(y_pred, epsilon, 1. - epsilon)\n",
    "    t_loss = -weights * ((y_true) * K.log(y_pred)/weights_1 +\n",
    "                         (1 - y_true) * K.log(1 - y_pred)/weights_0)\n",
    "    return K.mean(t_loss)\n",
    "\n",
    "def weighted_binary_crossentropy_GAN(y_true, y_pred):\n",
    "    weights = tf.gather(y_pred, [1], axis=1) # event weights\n",
    "    y_pred = tf.gather(y_pred, [0], axis=1) # actual y_pred for loss\n",
    "\n",
    "    weights_1 = K.sum(y_true*weights)\n",
    "    weights_0 = K.sum((1-y_true)*weights)\n",
    "\n",
    "    #tf.print(\"weights\",weights_0,weights_1)\n",
    "\n",
    "    # Clip the prediction value to prevent NaN's and Inf's\n",
    "    epsilon = K.epsilon()\n",
    "    y_pred = K.clip(y_pred, epsilon, 1. - epsilon)\n",
    "    t_loss = weights * ((1 - y_true) * K.log(1 - y_pred)/weights_0)\n",
    "    return K.mean(t_loss)"
   ]
  },
  {
   "cell_type": "code",
   "execution_count": 15,
   "metadata": {},
   "outputs": [
    {
     "name": "stdout",
     "output_type": "stream",
     "text": [
      "n = 1\n",
      "WARNING:tensorflow:5 out of the last 4685 calls to <function Model.make_train_function.<locals>.train_function at 0x7f5fd2b49670> triggered tf.function retracing. Tracing is expensive and the excessive number of tracings could be due to (1) creating @tf.function repeatedly in a loop, (2) passing tensors with different shapes, (3) passing Python objects instead of tensors. For (1), please define your @tf.function outside of the loop. For (2), @tf.function has experimental_relax_shapes=True option that relaxes argument shapes that can avoid unnecessary retracing. For (3), please refer to https://www.tensorflow.org/guide/function#controlling_retracing and https://www.tensorflow.org/api_docs/python/tf/function for  more details.\n",
      "on epoch= 0 [[1.2522386]]\n",
      "on epoch= 1 [[2.0029228]]\n",
      "on epoch= 2 [[2.3741868]]\n",
      "on epoch= 3 [[2.4584432]]\n",
      "on epoch= 4 [[2.470886]]\n",
      "on epoch= 5 [[2.4769728]]\n",
      "on epoch= 6 [[2.4762888]]\n",
      "on epoch= 7 [[2.475679]]\n",
      "on epoch= 8 [[2.4806724]]\n",
      "on epoch= 9 [[2.4795144]]\n",
      "Moment  1\n",
      "0.16614290717254565 0.1411114662563734 0.16548080180972294\n",
      "\n",
      "\n",
      "\n",
      "\n",
      "n = 2\n",
      "on epoch= 0 [[1.1658883 1.0410104]]\n",
      "on epoch= 1 [[1.705842  1.1881266]]\n",
      "on epoch= 2 [[2.0254037  0.69754755]]\n",
      "on epoch= 3 [[2.3652897 0.0042995]]\n",
      "on epoch= 4 [[ 2.7257483 -0.7615204]]\n",
      "on epoch= 5 [[ 3.0846946 -1.5417421]]\n",
      "on epoch= 6 [[ 3.4362106 -2.3175573]]\n",
      "on epoch= 7 [[ 3.7762635 -3.08291  ]]\n",
      "on epoch= 8 [[ 4.107764  -3.8294196]]\n",
      "on epoch= 9 [[ 4.4276724 -4.558455 ]]\n",
      "Moment  1\n",
      "0.1661604981387126 0.1413565313309361 0.1654041974041169\n",
      "Moment  2\n",
      "0.0387360940784931 0.029234404853635775 0.03911062883903609\n",
      "\n",
      "\n",
      "\n",
      "\n"
     ]
    }
   ],
   "source": [
    "xvals_1 = np.concatenate([w_true_alt,w_true])\n",
    "yvals_1 = np.concatenate([np.ones(len(w_true_alt)),np.zeros(len(w_true))])\n",
    "\n",
    "xvals_2 = np.concatenate([w_reco_alt,w_reco])\n",
    "yvals_2 = np.concatenate([np.ones(len(w_reco_alt)),np.zeros(len(w_reco))])\n",
    "\n",
    "X_train_1, X_test_1, Y_train_1, Y_test_1, X_train_2, X_test_2, Y_train_2, Y_test_2 = train_test_split(xvals_1, \n",
    "                                                                                    yvals_1, xvals_2, yvals_2)\n",
    "\n",
    "\n",
    "N = 3\n",
    "n = 1\n",
    "errors_weighted = np.zeros((N, N))\n",
    "errors_unweighted = np.zeros((N, N))\n",
    "\n",
    "myc = 0.1\n",
    "mymodel_inputtest = Input(shape=(1,))\n",
    "\n",
    "\n",
    "    \n",
    "while n < N:\n",
    "    print(f\"{n = }\")\n",
    "    \n",
    "    mymodel_test = MyLayer(myc)(mymodel_inputtest)\n",
    "    model_generator = Model(mymodel_inputtest, mymodel_test)\n",
    "\n",
    "    inputs_disc = Input((1, ))\n",
    "    hidden_layer_1_disc = Dense(50, activation='relu')(inputs_disc)\n",
    "    hidden_layer_2_disc = Dense(50, activation='relu')(hidden_layer_1_disc)\n",
    "    hidden_layer_3_disc = Dense(50, activation='relu')(hidden_layer_2_disc)\n",
    "    outputs_disc = Dense(1, activation='sigmoid')(hidden_layer_3_disc)\n",
    "    model_discrimantor = Model(inputs=inputs_disc, outputs=outputs_disc)\n",
    "\n",
    "    model_discrimantor.compile(loss=weighted_binary_crossentropy, optimizer='adam')\n",
    "\n",
    "    model_discrimantor.trainable = False\n",
    "    mymodel_gan = Input(shape=(1,))\n",
    "    gan_model = Model(inputs=mymodel_gan,outputs=concatenate([model_discrimantor(mymodel_gan),model_generator(mymodel_gan)]))\n",
    "\n",
    "\n",
    "    gan_model.compile(loss=weighted_binary_crossentropy_GAN, optimizer='adam')\n",
    "\n",
    "    n_epochs = 10\n",
    "    n_batch = 128*10\n",
    "    n_batches = len(X_train_1) // n_batch\n",
    "\n",
    "    for i in range(n_epochs):\n",
    "        for j in range(n_batches):\n",
    "            X_batch = X_train_1[j*n_batch:(j+1)*n_batch]\n",
    "            Y_batch = Y_train_1[j*n_batch:(j+1)*n_batch]\n",
    "            W_batch = model_generator(X_batch)\n",
    "            W_batch = np.array(W_batch).flatten()\n",
    "            W_batch[Y_batch==1] = 1\n",
    "            #W_batch[Y_batch==0] = 1\n",
    "\n",
    "            Y_batch_2 = np.stack((Y_batch, W_batch), axis=1)\n",
    "\n",
    "            model_discrimantor.train_on_batch(X_batch, Y_batch_2)\n",
    "\n",
    "            gan_model.train_on_batch(X_batch[Y_batch==0],np.zeros(len(X_batch[Y_batch==0])))\n",
    "            \n",
    "        mylambda = np.array(model_generator.layers[-1].get_weights())\n",
    "        print(\"on epoch=\",i, mylambda)\n",
    "\n",
    "    arr = np.array([mylambda[:, k]*w_true**(k+1) for k in range(n)])\n",
    "    exponent = np.exp(np.sum(arr, axis=0))\n",
    "    weights_1 = np.concatenate([np.ones(len(w_true_alt)),exponent*len(w_true_alt)/np.sum(exponent)])\n",
    "\n",
    "    X_train_1, X_test_1, Y_train_1, Y_test_1, X_train_2, X_test_2, Y_train_2, Y_test_2, w_train_1, w_test_1 = train_test_split(xvals_1, \n",
    "                                                                                    yvals_1, xvals_2, yvals_2, weights_1)\n",
    "\n",
    "    #data, simulation w/o weights, weighted simulation\n",
    "    for i in range(n):\n",
    "        print(\"Moment \", i+1)\n",
    "        print(np.mean(X_test_2[Y_test_2==1]**(i+1)),np.mean(X_test_2[Y_test_2==0]**(i+1)),np.average(X_test_2[Y_test_2==0]**(i+1),weights=w_test_1[Y_test_2==0]))\n",
    "    errors_weighted[:, n] = [(np.average(X_test_2[Y_test_2==0]**(i+1),weights=w_test_1[Y_test_2==0]) - np.mean(X_test_2[Y_test_2==1]**(i+1)))/np.average(X_test_2[Y_test_2==0]**(i+1),weights=w_test_1[Y_test_2==0]) for i in range(N)]\n",
    "    errors_unweighted[:, n] = [(np.mean(X_test_2[Y_test_2==0]**(i+1)) - np.mean(X_test_2[Y_test_2==1]**(i+1)))/np.mean(X_test_2[Y_test_2==0]**(i+1)) for i in range(N)]\n",
    "    n += 1\n",
    "    print(\"\\n\\n\\n\")"
   ]
  },
  {
   "cell_type": "code",
   "execution_count": 1,
   "metadata": {},
   "outputs": [
    {
     "ename": "NameError",
     "evalue": "name 'plt' is not defined",
     "output_type": "error",
     "traceback": [
      "\u001b[0;31m---------------------------------------------------------------------------\u001b[0m",
      "\u001b[0;31mNameError\u001b[0m                                 Traceback (most recent call last)",
      "\u001b[0;32m<ipython-input-1-248eebca74ba>\u001b[0m in \u001b[0;36m<module>\u001b[0;34m\u001b[0m\n\u001b[0;32m----> 1\u001b[0;31m \u001b[0mfig\u001b[0m\u001b[0;34m,\u001b[0m \u001b[0max\u001b[0m \u001b[0;34m=\u001b[0m \u001b[0mplt\u001b[0m\u001b[0;34m.\u001b[0m\u001b[0msubplots\u001b[0m\u001b[0;34m(\u001b[0m\u001b[0mfigsize\u001b[0m\u001b[0;34m=\u001b[0m\u001b[0;34m(\u001b[0m\u001b[0;36m10\u001b[0m\u001b[0;34m,\u001b[0m \u001b[0;36m7\u001b[0m\u001b[0;34m)\u001b[0m\u001b[0;34m)\u001b[0m\u001b[0;34m\u001b[0m\u001b[0;34m\u001b[0m\u001b[0m\n\u001b[0m\u001b[1;32m      2\u001b[0m \u001b[0marr\u001b[0m \u001b[0;34m=\u001b[0m \u001b[0;34m[\u001b[0m\u001b[0;34m'solid'\u001b[0m\u001b[0;34m,\u001b[0m \u001b[0;34m'dotted'\u001b[0m\u001b[0;34m,\u001b[0m \u001b[0;34m'dashdot'\u001b[0m\u001b[0;34m]\u001b[0m\u001b[0;34m\u001b[0m\u001b[0;34m\u001b[0m\u001b[0m\n\u001b[1;32m      3\u001b[0m \u001b[0;32mfor\u001b[0m \u001b[0mi\u001b[0m \u001b[0;32min\u001b[0m \u001b[0mrange\u001b[0m\u001b[0;34m(\u001b[0m\u001b[0;36m3\u001b[0m\u001b[0;34m)\u001b[0m\u001b[0;34m:\u001b[0m\u001b[0;34m\u001b[0m\u001b[0;34m\u001b[0m\u001b[0m\n\u001b[1;32m      4\u001b[0m     \u001b[0mplt\u001b[0m\u001b[0;34m.\u001b[0m\u001b[0mplot\u001b[0m\u001b[0;34m(\u001b[0m\u001b[0mrange\u001b[0m\u001b[0;34m(\u001b[0m\u001b[0;36m1\u001b[0m\u001b[0;34m,\u001b[0m \u001b[0mN\u001b[0m\u001b[0;34m)\u001b[0m\u001b[0;34m,\u001b[0m \u001b[0mnp\u001b[0m\u001b[0;34m.\u001b[0m\u001b[0mabs\u001b[0m\u001b[0;34m(\u001b[0m\u001b[0merrors_weighted\u001b[0m\u001b[0;34m[\u001b[0m\u001b[0mi\u001b[0m\u001b[0;34m]\u001b[0m\u001b[0;34m)\u001b[0m\u001b[0;34m[\u001b[0m\u001b[0;36m1\u001b[0m\u001b[0;34m:\u001b[0m\u001b[0;34m]\u001b[0m\u001b[0;34m,\u001b[0m \u001b[0mcolor\u001b[0m\u001b[0;34m=\u001b[0m\u001b[0;34m'r'\u001b[0m\u001b[0;34m,\u001b[0m \u001b[0mls\u001b[0m \u001b[0;34m=\u001b[0m \u001b[0marr\u001b[0m\u001b[0;34m[\u001b[0m\u001b[0mi\u001b[0m\u001b[0;34m]\u001b[0m\u001b[0;34m,\u001b[0m \u001b[0mlw\u001b[0m\u001b[0;34m=\u001b[0m\u001b[0;36m3\u001b[0m\u001b[0;34m)\u001b[0m\u001b[0;34m\u001b[0m\u001b[0;34m\u001b[0m\u001b[0m\n\u001b[1;32m      5\u001b[0m     \u001b[0mplt\u001b[0m\u001b[0;34m.\u001b[0m\u001b[0mtext\u001b[0m\u001b[0;34m(\u001b[0m\u001b[0mrange\u001b[0m\u001b[0;34m(\u001b[0m\u001b[0;36m1\u001b[0m\u001b[0;34m,\u001b[0m \u001b[0mN\u001b[0m\u001b[0;34m)\u001b[0m\u001b[0;34m[\u001b[0m\u001b[0;36m4\u001b[0m\u001b[0;34m]\u001b[0m\u001b[0;34m,\u001b[0m \u001b[0mnp\u001b[0m\u001b[0;34m.\u001b[0m\u001b[0mabs\u001b[0m\u001b[0;34m(\u001b[0m\u001b[0merrors_weighted\u001b[0m\u001b[0;34m[\u001b[0m\u001b[0mi\u001b[0m\u001b[0;34m]\u001b[0m\u001b[0;34m)\u001b[0m\u001b[0;34m[\u001b[0m\u001b[0;34m-\u001b[0m\u001b[0;36m1\u001b[0m\u001b[0;34m]\u001b[0m\u001b[0;34m,\u001b[0m \u001b[0;34mf'Moment {i+1} weighted'\u001b[0m\u001b[0;34m,\u001b[0m \u001b[0mcolor\u001b[0m\u001b[0;34m=\u001b[0m\u001b[0;34m'r'\u001b[0m\u001b[0;34m)\u001b[0m\u001b[0;34m\u001b[0m\u001b[0;34m\u001b[0m\u001b[0m\n",
      "\u001b[0;31mNameError\u001b[0m: name 'plt' is not defined"
     ]
    }
   ],
   "source": [
    "fig, ax = plt.subplots(figsize=(10, 7))\n",
    "arr = ['solid', 'dotted', 'dashdot']\n",
    "for i in range(3):\n",
    "    plt.plot(range(1, N), np.abs(errors_weighted[i])[1:], color='r', ls = arr[i], lw=3)\n",
    "    plt.text(range(1, N)[4], np.abs(errors_weighted[i])[-1], f'Moment {i+1} weighted', color='r')\n",
    "    plt.plot(range(1, N), np.abs(errors_unweighted[i])[1:], label=f'Moment {i+1} unweighted', color='cyan', ls=arr[i], lw=3)\n",
    "    plt.text(range(1, N)[4], np.abs(errors_unweighted[i])[-1], f'Moment {i+1} unweighted', color='cyan')\n",
    "# ax.xaxis.label.set_color('white')        #setting up X-axis label color to yellow\n",
    "# ax.yaxis.label.set_color('white')          #setting up Y-axis label color to blue\n",
    "\n",
    "# ax.tick_params(axis='x', colors='white')    #setting up X-axis tick color to red\n",
    "# ax.tick_params(axis='y', colors='white')  #setting up Y-axis tick color to black\n",
    "# ax.spines['left'].set_color('white')        # setting up Y-axis tick color to red\n",
    "# ax.spines['top'].set_color('white')\n",
    "# ax.spines['right'].set_color('white') \n",
    "# ax.spines['bottom'].set_color('white') \n",
    "plt.xlabel(\"Number of moments learned\")\n",
    "plt.ylabel(r\"Error $\\left(\\left|\\frac{MC - Data}{Data}\\right|\\right)$\")\n",
    "#plt.title(\"Two Level Unfolding\")\n",
    "ax.xaxis.set_ticks([1, 2, 3, 4, 5])\n",
    "plt.xlim(1, 5)\n",
    "plt.savefig(\"2LevelUnfolding.pdf\", bbox_inches='tight', transparent=True)\n",
    "plt.show()"
   ]
  },
  {
   "cell_type": "code",
   "execution_count": 23,
   "metadata": {},
   "outputs": [
    {
     "data": {
      "image/png": "[encoded data removed]",
      "text/plain": [
       "<Figure size 432x288 with 1 Axes>"
      ]
     },
     "metadata": {
      "needs_background": "light"
     },
     "output_type": "display_data"
    }
   ],
   "source": [
    "nbins = 30\n",
    "_,_,_=plt.hist(X_test_2[Y_test_2==1],bins=np.linspace(0,1,nbins),alpha=0.5,label=\"truth\")\n",
    "_,_,_=plt.hist(X_test_2[Y_test_2==0],bins=np.linspace(0,1,nbins),alpha=0.5,label=\"gen\")\n",
    "_,_,_=plt.hist(X_test_2[Y_test_2==0],bins=np.linspace(0,1,nbins),weights=w_test_1[Y_test_2==0],histtype=\"step\",color=\"r\",ls=\":\", lw=4,label=\"weighted gen\")\n",
    "plt.legend(fontsize=15)\n",
    "plt.xlabel(\"Jet width\")\n",
    "plt.ylabel(\"Trials\")\n",
    "plt.xlim(0, 0.7)\n",
    "plt.savefig(\"jetexample.pdf\", bbox_inches='tight', transparent=True)"
   ]
  },
  {
   "cell_type": "code",
   "execution_count": 14,
   "metadata": {},
   "outputs": [
    {
     "data": {
      "text/plain": [
       "(array([1.9915e+05, 3.2159e+04, 1.0658e+04, 4.7630e+03, 2.2100e+03,\n",
       "        8.1500e+02, 1.7600e+02, 5.2000e+01, 1.4000e+01, 1.0000e+00]),\n",
       " array([0.76777145, 1.08413296, 1.40049448, 1.71685599, 2.03321751,\n",
       "        2.34957903, 2.66594054, 2.98230206, 3.29866357, 3.61502509,\n",
       "        3.9313866 ]),\n",
       " <BarContainer object of 10 artists>)"
      ]
     },
     "execution_count": 14,
     "metadata": {},
     "output_type": "execute_result"
    },
    {
     "data": {
      "image/png": "[encoded data removed]",
      "text/plain": [
       "<Figure size 432x288 with 1 Axes>"
      ]
     },
     "metadata": {
      "needs_background": "light"
     },
     "output_type": "display_data"
    }
   ],
   "source": [
    "plt.hist(w_test_1[Y_test_2==0])"
   ]
  },
  {
   "cell_type": "code",
   "execution_count": 2,
   "metadata": {},
   "outputs": [],
   "source": [
    "import numpy as np\n",
    "import matplotlib.pyplot as plt"
   ]
  },
  {
   "cell_type": "code",
   "execution_count": 10,
   "metadata": {},
   "outputs": [
    {
     "data": {
      "image/png": "[encoded data removed]",
      "text/plain": [
       "<Figure size 432x288 with 1 Axes>"
      ]
     },
     "metadata": {
      "needs_background": "light"
     },
     "output_type": "display_data"
    }
   ],
   "source": [
    "x = np.random.normal(0, 1, 10**4)\n",
    "plt.hist(x, bins=20)\n",
    "plt.show()"
   ]
  },
  {
   "cell_type": "code",
   "execution_count": null,
   "metadata": {},
   "outputs": [],
   "source": []
  }
 ],
 "metadata": {
  "kernelspec": {
   "display_name": "Python 3",
   "language": "python",
   "name": "python3"
  },
  "language_info": {
   "codemirror_mode": {
    "name": "ipython",
    "version": 3
   },
   "file_extension": ".py",
   "mimetype": "text/x-python",
   "name": "python",
   "nbconvert_exporter": "python",
   "pygments_lexer": "ipython3",
   "version": "3.8.13"
  }
 },
 "nbformat": 4,
 "nbformat_minor": 4
}
