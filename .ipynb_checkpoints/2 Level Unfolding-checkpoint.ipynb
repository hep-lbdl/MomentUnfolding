{
 "cells": [
  {
   "cell_type": "code",
   "execution_count": 11,
   "metadata": {},
   "outputs": [],
   "source": [
    "import numpy as np\n",
    "import os\n",
    "import matplotlib.pyplot as plt\n",
    "import energyflow as ef\n",
    "import energyflow.archs\n",
    "from energyflow.archs import PFN\n",
    "from matplotlib import gridspec\n",
    "from sklearn.model_selection import train_test_split\n",
    "from sklearn.preprocessing import StandardScaler\n",
    "from scipy.stats import zscore\n",
    "import tensorflow as tf\n",
    "from tensorflow.keras.layers import Dense, Input, Layer, concatenate\n",
    "from tensorflow.keras.models import Model\n",
    "import tensorflow.keras.backend as K\n",
    "from tensorflow.keras.layers import BatchNormalization\n",
    "\n",
    "plt.rc('font', size=20)\n",
    "plt.rcParams[\"font.family\"] = \"serif\"\n",
    "\n",
    "os.environ[\"CUDA_VISIBLE_DEVICES\"] = \"1\" # pick a number < 4 on ML4HEP\n",
    "physical_devices = tf.config.list_physical_devices('GPU') \n",
    "tf.config.experimental.set_memory_growth(physical_devices[0], True)"
   ]
  },
  {
   "cell_type": "code",
   "execution_count": 2,
   "metadata": {},
   "outputs": [],
   "source": [
    "normalize = True\n",
    "data_size = 10**6\n",
    "n_moments = 2\n",
    "mylambda = []"
   ]
  },
  {
   "cell_type": "code",
   "execution_count": 3,
   "metadata": {},
   "outputs": [
    {
     "name": "stderr",
     "output_type": "stream",
     "text": [
      "<__array_function__ internals>:5: VisibleDeprecationWarning: Creating an ndarray from ragged nested sequences (which is a list-or-tuple of lists-or-tuples-or ndarrays with different lengths or shapes) is deprecated. If you meant to do this, you must specify 'dtype=object' when creating the ndarray.\n"
     ]
    }
   ],
   "source": [
    "#These are the same datasets from the OmniFold paper https://arxiv.org/abs/1911.09107.  More detail at https://energyflow.network/docs/datasets/.\n",
    "#Pythia and Herwig are two generators; one will be treated here as the \"simulation\" and one as \"data\".\n",
    "datasets = {'Pythia26': ef.zjets_delphes.load('Pythia26', num_data=data_size),\n",
    "            'Herwig': ef.zjets_delphes.load('Herwig', num_data=data_size)}"
   ]
  },
  {
   "cell_type": "code",
   "execution_count": 4,
   "metadata": {},
   "outputs": [],
   "source": [
    "x = dict()\n",
    "p = dict()\n",
    "if normalize:\n",
    "    x['gen'] = zscore(datasets['Pythia26']['gen_widths']) #gen = particle leve\n",
    "    x['sim'] = zscore(datasets['Pythia26']['sim_widths']) #sim = detector level\n",
    "    x['truth'] = zscore(datasets['Herwig']['gen_widths'])\n",
    "    x['data'] = zscore(datasets['Herwig']['sim_widths'])\n",
    "\n",
    "    p['gen'] = zscore(datasets['Pythia26']['gen_jets'][:,0]) #gen = particle level\n",
    "    p['sim'] = zscore(datasets['Pythia26']['sim_jets'][:,0]) #sim = detector level\n",
    "    p['truth'] = zscore(datasets['Herwig']['gen_jets'][:,0])\n",
    "    p['data'] = zscore(datasets['Herwig']['sim_jets'][:,0])\n",
    "\n",
    "else:\n",
    "    x['gen'] =datasets['Pythia26']['gen_widths'] #gen = particle leve\n",
    "    x['sim'] = datasets['Pythia26']['sim_widths'] #sim = detector level\n",
    "    x['truth'] = datasets['Herwig']['gen_widths']\n",
    "    x['data'] = datasets['Herwig']['sim_widths']\n",
    "\n",
    "    p['gen'] = datasets['Pythia26']['gen_jets'][:,0] #gen = particle level\n",
    "    p['sim'] = datasets['Pythia26']['sim_jets'][:,0] #sim = detector level\n",
    "    p['truth'] = datasets['Herwig']['gen_jets'][:,0]\n",
    "    p['data'] = datasets['Herwig']['sim_jets'][:,0]"
   ]
  },
  {
   "cell_type": "code",
   "execution_count": 5,
   "metadata": {},
   "outputs": [],
   "source": [
    "initializer = tf.keras.initializers.RandomUniform(minval=-5., maxval=5.)\n",
    "\n",
    "class MyLayer(Layer):\n",
    "\n",
    "    def __init__(self, myc, **kwargs):\n",
    "        self.myinit = myc\n",
    "        super(MyLayer, self).__init__(**kwargs)\n",
    "\n",
    "    def build(self, input_shape):\n",
    "        # Create a trainable weight variable for this layer.\n",
    "        self._l = self.add_weight(name='l', \n",
    "                                    shape=(n_moments,),\n",
    "                                    initializer=tf.keras.initializers.Constant(self.myinit), \n",
    "                                    trainable=True)\n",
    "        \n",
    "        super(MyLayer, self).build(input_shape)  # Be sure to call this at the end\n",
    "\n",
    "    def call(self, x):\n",
    "        return tf.exp(sum([self._l[i]* x**(i+1) for i in range(n_moments)]))"
   ]
  },
  {
   "cell_type": "code",
   "execution_count": 6,
   "metadata": {},
   "outputs": [],
   "source": [
    "def weighted_binary_crossentropy(y_true, y_pred):\n",
    "    weights = tf.gather(y_true, [1], axis=1) # event weights\n",
    "    y_true = tf.gather(y_true, [0], axis=1) # actual y_true for loss\n",
    "\n",
    "    weights_1 = K.sum(y_true*weights)\n",
    "    weights_0 = K.sum((1-y_true)*weights)\n",
    "\n",
    "    # Clip the prediction value to prevent NaN's and Inf's\n",
    "    epsilon = K.epsilon()\n",
    "    y_pred = K.clip(y_pred, epsilon, 1. - epsilon)\n",
    "    t_loss = -weights * ((y_true) * K.log(y_pred)/weights_1 +\n",
    "                         (1 - y_true) * K.log(1 - y_pred)/weights_0)\n",
    "    return K.mean(t_loss)\n",
    "\n",
    "def weighted_binary_crossentropy_GAN(y_true, y_pred):\n",
    "    weights = tf.gather(y_pred, [1], axis=1) # event weights\n",
    "    y_pred = tf.gather(y_pred, [0], axis=1) # actual y_pred for loss\n",
    "\n",
    "    weights_1 = K.sum(y_true*weights)\n",
    "    weights_0 = K.sum((1-y_true)*weights)\n",
    "\n",
    "    #tf.print(\"weights\",weights_0,weights_1)\n",
    "\n",
    "    # Clip the prediction value to prevent NaN's and Inf's\n",
    "    epsilon = K.epsilon()\n",
    "    y_pred = K.clip(y_pred, epsilon, 1. - epsilon)\n",
    "    t_loss = weights * ((1 - y_true) * K.log(1 - y_pred)/weights_0)\n",
    "    return K.mean(t_loss)"
   ]
  },
  {
   "cell_type": "code",
   "execution_count": 12,
   "metadata": {},
   "outputs": [],
   "source": [
    "myc = 0.1\n",
    "mymodel_inputtest = Input(shape=(1,))\n",
    "    \n",
    "mymodel_test = MyLayer(myc)(mymodel_inputtest)\n",
    "model_generator = Model(mymodel_inputtest, mymodel_test)\n",
    "\n",
    "inputs_disc = Input((1, ))\n",
    "hidden_layer_1_disc = Dense(50, activation='relu')(inputs_disc)\n",
    "hidden_layer_2_disc = Dense(50, activation='relu')(hidden_layer_1_disc)\n",
    "hidden_layer_3_disc = Dense(50, activation='relu')(hidden_layer_2_disc)\n",
    "outputs_disc = Dense(1, activation='sigmoid')(hidden_layer_3_disc)\n",
    "model_discrimantor = Model(inputs=inputs_disc, outputs=outputs_disc)\n",
    "\n",
    "model_discrimantor.compile(loss=weighted_binary_crossentropy, optimizer='adam')\n",
    "\n",
    "model_discrimantor.trainable = False\n",
    "mymodel_gan = Input(shape=(1,))\n",
    "gan_model = Model(inputs=mymodel_gan,outputs=concatenate([model_discrimantor(mymodel_gan),model_generator(mymodel_gan)]))\n",
    "\n",
    "\n",
    "gan_model.compile(loss=weighted_binary_crossentropy_GAN, optimizer='adam')"
   ]
  },
  {
   "cell_type": "code",
   "execution_count": 13,
   "metadata": {},
   "outputs": [],
   "source": [
    "xvals_particle = np.concatenate([w_gen,w_truth])\n",
    "xvals_detector = np.concatenate([w_sim,w_data])               \n",
    "yvals = np.concatenate([np.ones(len(w_gen)),np.zeros(len(w_truth))])\n",
    "\n",
    "X_train_particle, X_test_particle, X_train_detector, X_test_detector, Y_train, Y_test = train_test_split(xvals_particle, \n",
    "                                                                                                        xvals_detector,\n",
    "                                                                                                        yvals)"
   ]
  },
  {
   "cell_type": "code",
   "execution_count": 48,
   "metadata": {},
   "outputs": [
    {
     "name": "stdout",
     "output_type": "stream",
     "text": [
      "on epoch= 0 [[-0.05344768  0.04045296]]\n",
      "on epoch= 1 [[-0.05670489  0.0397212 ]]\n",
      "on epoch= 2 [[-0.05553655  0.04084711]]\n",
      "on epoch= 3 [[-0.05750554  0.04050618]]\n",
      "on epoch= 4 [[-0.05479424  0.04364768]]\n",
      "on epoch= 5 [[-0.05473193  0.04224808]]\n",
      "on epoch= 6 [[-0.05376235  0.04296623]]\n",
      "on epoch= 7 [[-0.05252789  0.04383349]]\n",
      "on epoch= 8 [[-0.05359256  0.0437866 ]]\n",
      "on epoch= 9 [[-0.055372    0.04383782]]\n",
      "on epoch= 10 [[-0.05460113  0.04387779]]\n",
      "on epoch= 11 [[-0.05566284  0.04389028]]\n",
      "on epoch= 12 [[-0.05315868  0.0453284 ]]\n",
      "on epoch= 13 [[-0.05533151  0.0443017 ]]\n",
      "on epoch= 14 [[-0.0559058   0.04404966]]\n",
      "on epoch= 15 [[-0.05638696  0.04386501]]\n",
      "on epoch= 16 [[-0.05720456  0.04412472]]\n",
      "on epoch= 17 [[-0.05584265  0.04409815]]\n",
      "on epoch= 18 [[-0.05552459  0.04596896]]\n",
      "on epoch= 19 [[-0.05609347  0.04495783]]\n"
     ]
    }
   ],
   "source": [
    "n_epochs = 10\n",
    "n_batch = 128*10\n",
    "n_batches = len(X_train_particle) // n_batch\n",
    "\n",
    "for i in range(n_epochs):\n",
    "    #print(\"  \",np.sum(model_generator.predict(X_train_1,batch_size=1000)))\n",
    "    for j in range(n_batches):\n",
    "        X_batch_particle = X_train_particle[j*n_batch:(j+1)*n_batch]\n",
    "        X_batch_detector = X_train_detector[j*n_batch:(j+1)*n_batch]\n",
    "        Y_batch = Y_train[j*n_batch:(j+1)*n_batch]\n",
    "        W_batch = model_generator(X_batch_particle)\n",
    "        W_batch = np.array(W_batch).flatten()\n",
    "        \n",
    "        W_batch[Y_batch==1] = 1        \n",
    "        Y_batch_2 = np.stack((Y_batch, W_batch), axis=1)\n",
    "        \n",
    "        model_discrimintor.train_on_batch(X_batch_detector, Y_batch_2)        \n",
    "        gan_model.train_on_batch(X_batch_particle[Y_batch==0],Y_batch[Y_batch==0])\n",
    "    mylambda = np.array(model_generator.layers[-1].get_weights())\n",
    "    print(\"on epoch=\", i, mylambda.T)"
   ]
  },
  {
   "cell_type": "code",
   "execution_count": 66,
   "metadata": {},
   "outputs": [
    {
     "data": {
      "image/png": "[encoded data removed]",
      "text/plain": [
       "<Figure size 504x360 with 1 Axes>"
      ]
     },
     "metadata": {
      "needs_background": "light"
     },
     "output_type": "display_data"
    }
   ],
   "source": [
    "plt.rc('font', size=20)\n",
    "plt.rcParams[\"font.family\"] = \"serif\"\n",
    "\n",
    "r = range(len(mylambda))\n",
    "\n",
    "mylambda = np.array(mylambda)\n",
    "fig, ax = plt.subplots(figsize=(7, 5))\n",
    "plt.plot(r, mylambda[:, :, 0], label = r\"$\\lambda_1$\")\n",
    "plt.plot(r, mylambda[:, :, 1], label = r\"$\\lambda_2$\")\n",
    "plt.legend()\n",
    "plt.xlabel(\"Epoch\")\n",
    "plt.ylabel(r\"$\\lambda_i$\")\n",
    "plt.show()"
   ]
  },
  {
   "cell_type": "code",
   "execution_count": 67,
   "metadata": {},
   "outputs": [],
   "source": [
    "arr = np.exp(np.sum([mylambda[-1][:, k]*x['gen']**(k+1) for k in range(n_moments)],axis = 0))\n",
    "weights = np.concatenate([arr*len(x['gen'])/np.sum(arr), np.ones(len(x['gen']))])\n",
    "\n",
    "X_train, X_test, Y_train, Y_test, w_train, w_test = train_test_split(xvals, yvals, weights)"
   ]
  },
  {
   "cell_type": "code",
   "execution_count": 68,
   "metadata": {},
   "outputs": [
    {
     "data": {
      "image/png": "[encoded data removed]",
      "text/plain": [
       "<Figure size 432x288 with 1 Axes>"
      ]
     },
     "metadata": {
      "needs_background": "light"
     },
     "output_type": "display_data"
    }
   ],
   "source": [
    "nbins = 30\n",
    "bins = np.linspace(X_test.min(),X_test.max(),nbins)\n",
    "\n",
    "_,_,_=plt.hist(X_test[Y_test==0][:, 0], bins=bins, alpha=0.5,label=\"truth\")\n",
    "_,_,_=plt.hist(X_test[Y_test==1][:, 0], bins=bins, alpha=0.5,label=\"gen\")\n",
    "_,_,_=plt.hist(X_test[Y_test==1][:, 0], bins=bins, weights=w_test[Y_test==1],histtype=\"step\",color=\"r\",ls=\":\", lw=4,label=\"weighted gen\")\n",
    "plt.legend(fontsize=15)\n",
    "plt.xlabel(\"Jet width\")\n",
    "plt.ylabel(\"Trials\")\n",
    "plt.savefig(\"jetexample.pdf\", bbox_inches='tight', transparent=True)"
   ]
  },
  {
   "cell_type": "code",
   "execution_count": 65,
   "metadata": {},
   "outputs": [
    {
     "ename": "AttributeError",
     "evalue": "'list' object has no attribute 'tolist'",
     "output_type": "error",
     "traceback": [
      "\u001b[0;31m---------------------------------------------------------------------------\u001b[0m",
      "\u001b[0;31mAttributeError\u001b[0m                            Traceback (most recent call last)",
      "Cell \u001b[0;32mIn[65], line 1\u001b[0m\n\u001b[0;32m----> 1\u001b[0m mylambda \u001b[38;5;241m=\u001b[39m \u001b[43mmylambda\u001b[49m\u001b[38;5;241;43m.\u001b[39;49m\u001b[43mtolist\u001b[49m()\n",
      "\u001b[0;31mAttributeError\u001b[0m: 'list' object has no attribute 'tolist'"
     ]
    }
   ],
   "source": [
    "mylambda = mylambda.tolist()"
   ]
  },
  {
   "cell_type": "code",
   "execution_count": null,
   "metadata": {
    "scrolled": true
   },
   "outputs": [],
   "source": [
    "plt.hist(X_test[:, 0])"
   ]
  },
  {
   "cell_type": "code",
   "execution_count": null,
   "metadata": {},
   "outputs": [],
   "source": [
    "import numpy as np\n",
    "import matplotlib.pyplot as plt\n",
    "plt.rc('font', size=20)\n",
    "plt.rcParams[\"font.family\"] = \"serif\""
   ]
  },
  {
   "cell_type": "code",
   "execution_count": null,
   "metadata": {},
   "outputs": [],
   "source": [
    "a, b, c = plt.hist(p_gen/1000, bins = np.linspace(.2, .5, 50))\n",
    "d, e, f = plt.hist(p_truth/1000, bins = np.linspace(.2, .5, 50))"
   ]
  },
  {
   "cell_type": "code",
   "execution_count": null,
   "metadata": {},
   "outputs": [],
   "source": [
    "plt.plot(d/(a+10e-5))\n",
    "plt.ylim(0.8,1.2)\n",
    "np.polyfit([(b[i] + b[i+1])/2 for i in range(len(b)-1)], d/(a+10e-5), 1)"
   ]
  },
  {
   "cell_type": "code",
   "execution_count": null,
   "metadata": {},
   "outputs": [],
   "source": [
    "c, m = np.polyfit([(b[i] + b[i+1])/2 for i in range(len(b)-1)], d/(a+10e-5), 1)"
   ]
  },
  {
   "cell_type": "code",
   "execution_count": null,
   "metadata": {},
   "outputs": [],
   "source": [
    "print(c)"
   ]
  },
  {
   "cell_type": "code",
   "execution_count": 55,
   "metadata": {},
   "outputs": [
    {
     "data": {
      "text/plain": [
       "<matplotlib.collections.PathCollection at 0x7f5d1c095610>"
      ]
     },
     "execution_count": 55,
     "metadata": {},
     "output_type": "execute_result"
    },
    {
     "data": {
      "image/png": "[encoded data removed]",
      "text/plain": [
       "<Figure size 432x288 with 1 Axes>"
      ]
     },
     "metadata": {
      "needs_background": "light"
     },
     "output_type": "display_data"
    }
   ],
   "source": [
    "plt.scatter(X_test[Y_test==1][:, 0], w_test[Y_test==1])"
   ]
  },
  {
   "cell_type": "code",
   "execution_count": null,
   "metadata": {},
   "outputs": [],
   "source": [
    "print(w_train[:20])"
   ]
  },
  {
   "cell_type": "code",
   "execution_count": null,
   "metadata": {},
   "outputs": [],
   "source": []
  }
 ],
 "metadata": {
  "kernelspec": {
   "display_name": "Python 3",
   "language": "python",
   "name": "python3"
  },
  "language_info": {
   "codemirror_mode": {
    "name": "ipython",
    "version": 3
   },
   "file_extension": ".py",
   "mimetype": "text/x-python",
   "name": "python",
   "nbconvert_exporter": "python",
   "pygments_lexer": "ipython3",
   "version": "3.8.13"
  }
 },
 "nbformat": 4,
 "nbformat_minor": 4
}
