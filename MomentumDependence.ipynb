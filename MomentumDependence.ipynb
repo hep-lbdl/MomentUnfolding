{
 "cells": [
  {
   "cell_type": "code",
   "execution_count": 1,
   "metadata": {},
   "outputs": [],
   "source": [
    "import os\n",
    "import numpy as np\n",
    "import matplotlib.pyplot as plt\n",
    "import energyflow as ef\n",
    "import energyflow.archs\n",
    "from energyflow.archs import PFN\n",
    "from matplotlib import gridspec\n",
    "from sklearn.model_selection import train_test_split\n",
    "import tensorflow as tf\n",
    "from tensorflow.keras.layers import Dense, Input, Layer, concatenate\n",
    "from tensorflow.keras.models import Model\n",
    "import tensorflow.keras.backend as K\n",
    "from tensorflow.keras.layers import BatchNormalization\n",
    "from scipy.stats import zscore\n",
    "\n",
    "\n",
    "plt.rc('font', size=20)\n",
    "plt.rcParams[\"font.family\"] = \"serif\"\n",
    "\n",
    "os.environ[\"CUDA_VISIBLE_DEVICES\"] = \"1\" # pick a number < 4 on ML4HEP\n",
    "physical_devices = tf.config.list_physical_devices('GPU') \n",
    "tf.config.experimental.set_memory_growth(physical_devices[0], True)"
   ]
  },
  {
   "cell_type": "code",
   "execution_count": 2,
   "metadata": {},
   "outputs": [
    {
     "name": "stderr",
     "output_type": "stream",
     "text": [
      "<__array_function__ internals>:5: VisibleDeprecationWarning: Creating an ndarray from ragged nested sequences (which is a list-or-tuple of lists-or-tuples-or ndarrays with different lengths or shapes) is deprecated. If you meant to do this, you must specify 'dtype=object' when creating the ndarray.\n"
     ]
    }
   ],
   "source": [
    "#These are the same datasets from the OmniFold paper https://arxiv.org/abs/1911.09107.  More detail at https://energyflow.network/docs/datasets/.\n",
    "#Pythia and Herwig are two generators; one will be treated here as the \"simulation\" and one as \"data\".\n",
    "datasets = {'Pythia26': ef.zjets_delphes.load('Pythia26', num_data=10**5),\n",
    "            'Herwig': ef.zjets_delphes.load('Herwig', num_data=10**5)}"
   ]
  },
  {
   "cell_type": "code",
   "execution_count": 3,
   "metadata": {},
   "outputs": [],
   "source": [
    "w_gen = zscore(datasets['Pythia26']['gen_widths']) #gen = particle level\n",
    "w_sim = zscore(datasets['Pythia26']['sim_widths']) #sim = detector level\n",
    "w_truth = zscore(datasets['Herwig']['gen_widths'])\n",
    "w_data = zscore(datasets['Herwig']['sim_widths'])\n",
    "\n",
    "p_gen = zscore(datasets['Pythia26']['gen_jets'][:,0]) #gen = particle level\n",
    "p_sim = zscore(datasets['Pythia26']['sim_jets'][:,0]) #sim = detector level\n",
    "p_truth = zscore(datasets['Herwig']['gen_jets'][:,0])\n",
    "p_data = zscore(datasets['Herwig']['sim_jets'][:,0])"
   ]
  },
  {
   "cell_type": "code",
   "execution_count": 4,
   "metadata": {},
   "outputs": [],
   "source": [
    "initializer = tf.keras.initializers.RandomUniform(minval=-5., maxval=5.)\n",
    "\n",
    "class MyLayer(Layer):\n",
    "\n",
    "    def __init__(self, myc, **kwargs):\n",
    "        self.myinit = myc\n",
    "        super(MyLayer, self).__init__(**kwargs)\n",
    "\n",
    "    def build(self, input_shape):\n",
    "        # Create a trainable weight variable for this layer.\n",
    "        self.m0 = self.add_weight(name='m0', \n",
    "                                    shape=(1,),\n",
    "                                    initializer=tf.keras.initializers.Constant(self.myinit), \n",
    "                                    trainable=True)\n",
    "        self.m1 = self.add_weight(name='m1', \n",
    "                                    shape=(1,),\n",
    "                                    initializer=tf.keras.initializers.Constant(self.myinit), \n",
    "                                    trainable=True)\n",
    "        self.v0 = self.add_weight(name='v0', \n",
    "                                    shape=(1,),\n",
    "                                    initializer=tf.keras.initializers.Constant(self.myinit), \n",
    "                                    trainable=True)\n",
    "        self.v1 = self.add_weight(name='v1', \n",
    "                                    shape=(1,),\n",
    "                                    initializer=tf.keras.initializers.Constant(self.myinit), \n",
    "                                    trainable=True)\n",
    "        super(MyLayer, self).build(input_shape)  # Be sure to call this at the end\n",
    "\n",
    "    def call(self, x):\n",
    "        y = tf.exp((self.m0 + self.m1*x[:, 0]) * x[:,1] + (self.v0 + self.v1*x[:,0]) * x[:,1]**2)\n",
    "        return tf.reshape(y, (len(x), 1))"
   ]
  },
  {
   "cell_type": "code",
   "execution_count": 5,
   "metadata": {},
   "outputs": [],
   "source": [
    "def weighted_binary_crossentropy(y_true, y_pred):\n",
    "    weights = tf.gather(y_true, [1], axis=1) # event weights\n",
    "    y_true = tf.gather(y_true, [0], axis=1) # actual y_true for loss\n",
    "    \n",
    "    weights_1 = K.sum(y_true*weights)\n",
    "    weights_0 = K.sum((1-y_true)*weights)\n",
    "    \n",
    "    # Clip the prediction value to prevent NaN's and Inf's\n",
    "    epsilon = K.epsilon()\n",
    "    y_pred = K.clip(y_pred, epsilon, 1. - epsilon)\n",
    "    t_loss = -weights * ((y_true) * K.log(y_pred)/weights_1 +\n",
    "                         (1 - y_true) * K.log(1 - y_pred)/weights_0)\n",
    "    return K.mean(t_loss)\n",
    "\n",
    "def weighted_binary_crossentropy_GAN(y_true, y_pred):\n",
    "    weights = tf.gather(y_pred, [1], axis=1) # event weights\n",
    "    y_pred = tf.gather(y_pred, [0], axis=1) # actual y_pred for loss\n",
    "    \n",
    "    weights_1 = K.sum(y_true*weights)\n",
    "    weights_0 = K.sum((1-y_true)*weights)\n",
    "    \n",
    "    #tf.print(\"weights\",weights_0,weights_1)\n",
    "    \n",
    "    # Clip the prediction value to prevent NaN's and Inf's\n",
    "    epsilon = K.epsilon()\n",
    "    y_pred = K.clip(y_pred, epsilon, 1. - epsilon)\n",
    "    t_loss = weights * ((1 - y_true) * K.log(1 - y_pred)/weights_0)\n",
    "    return K.mean(t_loss)"
   ]
  },
  {
   "cell_type": "code",
   "execution_count": 39,
   "metadata": {},
   "outputs": [],
   "source": [
    "myc = 4\n",
    "\n",
    "\n",
    "mymodel_inputtest = Input(shape=(2,))\n",
    "mymodel_test = MyLayer(myc)(mymodel_inputtest)\n",
    "model_generator = Model(mymodel_inputtest, mymodel_test)\n",
    "\n",
    "inputs_disc = Input((2, ))\n",
    "hidden_layer_1_disc = Dense(50, activation='relu')(inputs_disc)\n",
    "hidden_layer_2_disc = Dense(50, activation='relu')(hidden_layer_1_disc)\n",
    "hidden_layer_3_disc = Dense(50, activation='relu')(hidden_layer_2_disc)\n",
    "outputs_disc = Dense(1, activation='sigmoid')(hidden_layer_3_disc)\n",
    "model_discrimantor = Model(inputs=inputs_disc, outputs=outputs_disc)\n",
    "\n",
    "model_discrimantor.compile(loss=weighted_binary_crossentropy, optimizer='adam')\n",
    "    \n",
    "model_discrimantor.trainable = False\n",
    "mymodel_gan = Input(shape=(2,))\n",
    "gan_model = Model(inputs=mymodel_gan,outputs=concatenate([model_discrimantor(mymodel_gan),model_generator(mymodel_gan)]))\n",
    "\n",
    "gan_model.compile(loss=weighted_binary_crossentropy_GAN, optimizer='adam')"
   ]
  },
  {
   "cell_type": "code",
   "execution_count": 40,
   "metadata": {},
   "outputs": [],
   "source": [
    "xvals_particle = np.transpose([np.concatenate([w_gen,w_truth]), np.concatenate([p_gen,p_truth])])\n",
    "xvals_detector = np.transpose([np.concatenate([w_sim,w_data]), np.concatenate([p_sim,p_data])])                        \n",
    "yvals = np.transpose(np.concatenate([np.ones(len(w_gen)),np.zeros(len(w_truth))]))\n",
    "\n",
    "X_train_particle, X_test_particle, X_train_detector, X_test_detector, Y_train, Y_test = train_test_split(xvals_particle, \n",
    "                                                                                                        xvals_detector,\n",
    "                                                                                                        yvals)"
   ]
  },
  {
   "cell_type": "code",
   "execution_count": 8,
   "metadata": {},
   "outputs": [
    {
     "name": "stdout",
     "output_type": "stream",
     "text": [
      "on epoch= 0 [[ 0.00895447  0.001396   -0.01105283 -0.01642079]]\n",
      "on epoch= 1 [[ 0.02512443 -0.01871743 -0.01302688 -0.00522834]]\n",
      "on epoch= 2 [[ 0.04193172 -0.03422225 -0.01427146  0.00119852]]\n",
      "on epoch= 3 [[ 0.0082936   0.00617529 -0.00528268 -0.01155422]]\n",
      "on epoch= 4 [[ 0.02347127 -0.0109203  -0.00890194 -0.01051139]]\n",
      "on epoch= 5 [[ 0.02249421 -0.01125699 -0.01539936 -0.01525855]]\n",
      "on epoch= 6 [[ 0.02723903 -0.01406117 -0.01375683 -0.01253365]]\n",
      "on epoch= 7 [[ 0.02010226 -0.01383447 -0.00996756 -0.01433323]]\n",
      "on epoch= 8 [[ 0.02335788 -0.01449541 -0.00425791 -0.01260367]]\n",
      "on epoch= 9 [[ 0.03479359 -0.01529496 -0.01002331 -0.01124184]]\n",
      "on epoch= 10 [[ 0.024363   -0.01667407 -0.00989625 -0.01259966]]\n",
      "on epoch= 11 [[ 0.0149307  -0.0093843  -0.00765803 -0.01360196]]\n",
      "on epoch= 12 [[-0.00641709 -0.01486334 -0.00337834 -0.01221153]]\n",
      "on epoch= 13 [[ 0.0265342  -0.01945783 -0.02072595 -0.01999676]]\n",
      "on epoch= 14 [[ 0.03167117 -0.01565508 -0.01196562 -0.01812368]]\n",
      "on epoch= 15 [[ 0.02342395 -0.01694048 -0.00889389 -0.01357285]]\n",
      "on epoch= 16 [[ 0.01678428 -0.0102338  -0.00973948 -0.01841374]]\n",
      "on epoch= 17 [[ 0.01310957 -0.02340514 -0.00987338 -0.01710721]]\n",
      "on epoch= 18 [[ 0.00556872 -0.00887094 -0.01132078 -0.01247334]]\n",
      "on epoch= 19 [[ 0.00818    -0.00452287 -0.00972551 -0.01638111]]\n"
     ]
    }
   ],
   "source": [
    "n_epochs = 20\n",
    "n_batch = 128*10\n",
    "n_batches = len(X_train_particle) // n_batch\n",
    "\n",
    "for i in range(n_epochs):\n",
    "    #print(\"  \",np.sum(model_generator.predict(X_train_1,batch_size=1000)))\n",
    "    for j in range(n_batches):\n",
    "        X_batch_particle = X_train_particle[j*n_batch:(j+1)*n_batch]\n",
    "        X_batch_detector = X_train_detector[j*n_batch:(j+1)*n_batch]\n",
    "        Y_batch = Y_train[j*n_batch:(j+1)*n_batch]\n",
    "        W_batch = model_generator(X_batch_particle)\n",
    "        W_batch = np.array(W_batch).flatten()\n",
    "        \n",
    "        W_batch[Y_batch==1] = 1        \n",
    "        Y_batch_2 = np.stack((Y_batch, W_batch), axis=1)\n",
    "        \n",
    "        model_discrimantor.train_on_batch(X_batch_detector, Y_batch_2)        \n",
    "        gan_model.train_on_batch(X_batch_particle[Y_batch==0],np.zeros(len(X_batch_particle[Y_batch==0])))\n",
    "    mylambda = np.array(model_generator.layers[-1].get_weights())\n",
    "    print(\"on epoch=\", i, mylambda.T)"
   ]
  },
  {
   "cell_type": "code",
   "execution_count": 35,
   "metadata": {},
   "outputs": [],
   "source": [
    "arr = np.exp(np.array((mylambda[0] + mylambda[1]*p_gen) * w_gen + (mylambda[2] + mylambda[3]*p_gen) * w_gen**2))\n",
    "weights = np.concatenate([arr*len(w_gen)/np.sum(arr), np.ones(len(w_gen))])\n",
    "X_train_particle, X_test_particle, X_train_detector, X_test_detector, Y_train, Y_test, w_train, w_test = train_test_split(xvals_particle, \n",
    "                                                                                                        xvals_detector,\n",
    "                                                                                                        yvals, weights)"
   ]
  },
  {
   "cell_type": "code",
   "execution_count": 37,
   "metadata": {},
   "outputs": [
    {
     "data": {
      "image/png": "[encoded data removed]",
      "text/plain": [
       "<Figure size 432x288 with 1 Axes>"
      ]
     },
     "metadata": {
      "needs_background": "light"
     },
     "output_type": "display_data"
    }
   ],
   "source": [
    "nbins = 30\n",
    "min = -1.5\n",
    "max = 5\n",
    "_,_,_=plt.hist(X_test_particle[Y_test==0][:,0],bins=np.linspace(min,max,nbins),alpha=0.5,label=\"truth\")\n",
    "_,_,_=plt.hist(X_test_particle[Y_test==1][:,0],bins=np.linspace(min, max,nbins),alpha=0.5,label=\"gen\")\n",
    "_,_,_=plt.hist(X_test_particle[Y_test==1][:,0],bins=np.linspace(min,max,nbins),weights=w_test[Y_test==1],histtype=\"step\",color=\"r\",ls=\":\", lw=4,label=\"weighted gen\")\n",
    "plt.legend(fontsize=15)\n",
    "plt.xlabel(\"Jet width\")\n",
    "plt.ylabel(\"Trials\")\n",
    "plt.xlim(min, max)\n",
    "plt.savefig(\"jetexample.pdf\", bbox_inches='tight', transparent=True)"
   ]
  },
  {
   "cell_type": "code",
   "execution_count": null,
   "metadata": {},
   "outputs": [],
   "source": []
  }
 ],
 "metadata": {
  "kernelspec": {
   "display_name": "Python 3",
   "language": "python",
   "name": "python3"
  },
  "language_info": {
   "codemirror_mode": {
    "name": "ipython",
    "version": 3
   },
   "file_extension": ".py",
   "mimetype": "text/x-python",
   "name": "python",
   "nbconvert_exporter": "python",
   "pygments_lexer": "ipython3",
   "version": "3.8.13"
  }
 },
 "nbformat": 4,
 "nbformat_minor": 4
}
