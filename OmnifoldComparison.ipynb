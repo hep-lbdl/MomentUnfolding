{
 "cells": [
  {
   "cell_type": "markdown",
   "metadata": {},
   "source": [
    "## OmniFold"
   ]
  },
  {
   "cell_type": "code",
   "execution_count": 1,
   "metadata": {},
   "outputs": [],
   "source": [
    "from unfold import *\n",
    "\n",
    "import os\n",
    "os.environ['CUDA_VISIBLE_DEVICES']=\"1\"\n",
    "\n",
    "import tensorflow as tf\n",
    "import tensorflow.keras.backend as K\n",
    "tf.random.set_seed(1234)\n",
    "np.random.seed(1234)\n",
    "\n",
    "import numpy as np\n",
    "import matplotlib.pyplot as plt\n",
    "import energyflow as ef\n",
    "import energyflow.archs\n",
    "from energyflow.archs import PFN\n",
    "from matplotlib import gridspec\n",
    "\n",
    "from matplotlib import rc\n",
    "rc('font', size=20)\n",
    "\n",
    "physical_devices = tf.config.list_physical_devices('GPU') \n",
    "tf.config.experimental.set_memory_growth(physical_devices[0], True)"
   ]
  },
  {
   "cell_type": "code",
   "execution_count": 2,
   "metadata": {},
   "outputs": [],
   "source": [
    "iterations = 5\n",
    "dims = 2"
   ]
  },
  {
   "cell_type": "code",
   "execution_count": 3,
   "metadata": {},
   "outputs": [
    {
     "name": "stderr",
     "output_type": "stream",
     "text": [
      "<__array_function__ internals>:5: VisibleDeprecationWarning: Creating an ndarray from ragged nested sequences (which is a list-or-tuple of lists-or-tuples-or ndarrays with different lengths or shapes) is deprecated. If you meant to do this, you must specify 'dtype=object' when creating the ndarray.\n"
     ]
    }
   ],
   "source": [
    "datasets = {'Pythia26': ef.zjets_delphes.load('Pythia26', num_data=10**6),\n",
    "            'Herwig': ef.zjets_delphes.load('Herwig', num_data=10**6)}"
   ]
  },
  {
   "cell_type": "code",
   "execution_count": 4,
   "metadata": {},
   "outputs": [],
   "source": [
    "pT_true = datasets['Pythia26']['gen_jets'][:,0]\n",
    "m_true = datasets['Pythia26']['gen_jets'][:,3]\n",
    "pT_reco = datasets['Pythia26']['sim_jets'][:,0]\n",
    "m_reco = datasets['Pythia26']['sim_jets'][:,3]\n",
    "\n",
    "pT_true_alt = datasets['Herwig']['gen_jets'][:,0]\n",
    "m_true_alt = datasets['Herwig']['gen_jets'][:,3]\n",
    "pT_reco_alt = datasets['Herwig']['sim_jets'][:,0]\n",
    "m_reco_alt = datasets['Herwig']['sim_jets'][:,3]"
   ]
  },
  {
   "cell_type": "code",
   "execution_count": null,
   "metadata": {},
   "outputs": [
    {
     "name": "stdout",
     "output_type": "stream",
     "text": [
      "ITERATION: 1\n",
      "STEP 1...\n",
      "Epoch 1/1000\n",
      "7500/7500 [==============================] - 28s 4ms/step - loss: 0.6850 - accuracy: 0.5051 - val_loss: 0.6848 - val_accuracy: 0.4925\n",
      "Epoch 2/1000\n",
      "7500/7500 [==============================] - 27s 4ms/step - loss: 0.6848 - accuracy: 0.5114 - val_loss: 0.6846 - val_accuracy: 0.5221\n",
      "Epoch 3/1000\n",
      "7500/7500 [==============================] - 26s 3ms/step - loss: 0.6847 - accuracy: 0.5110 - val_loss: 0.6847 - val_accuracy: 0.5304\n",
      "Epoch 4/1000\n",
      "7500/7500 [==============================] - 26s 3ms/step - loss: 0.6847 - accuracy: 0.5115 - val_loss: 0.6846 - val_accuracy: 0.5220\n",
      "Epoch 5/1000\n",
      "7500/7500 [==============================] - 27s 4ms/step - loss: 0.6847 - accuracy: 0.5112 - val_loss: 0.6848 - val_accuracy: 0.4970\n",
      "Epoch 6/1000\n",
      "7500/7500 [==============================] - 27s 4ms/step - loss: 0.6847 - accuracy: 0.5131 - val_loss: 0.6846 - val_accuracy: 0.5032\n",
      "Epoch 7/1000\n",
      "7500/7500 [==============================] - 26s 4ms/step - loss: 0.6846 - accuracy: 0.5138 - val_loss: 0.6846 - val_accuracy: 0.5225\n",
      "Epoch 8/1000\n",
      "7500/7500 [==============================] - 26s 4ms/step - loss: 0.6846 - accuracy: 0.5125 - val_loss: 0.6847 - val_accuracy: 0.4987\n",
      "Epoch 9/1000\n",
      "7500/7500 [==============================] - 27s 4ms/step - loss: 0.6846 - accuracy: 0.5109 - val_loss: 0.6846 - val_accuracy: 0.5020\n",
      "Epoch 10/1000\n",
      "7500/7500 [==============================] - 27s 4ms/step - loss: 0.6846 - accuracy: 0.5115 - val_loss: 0.6846 - val_accuracy: 0.5154\n",
      "Epoch 11/1000\n",
      "7500/7500 [==============================] - 27s 4ms/step - loss: 0.6846 - accuracy: 0.5104 - val_loss: 0.6846 - val_accuracy: 0.5206\n",
      "Epoch 12/1000\n",
      "7500/7500 [==============================] - 26s 4ms/step - loss: 0.6846 - accuracy: 0.5118 - val_loss: 0.6846 - val_accuracy: 0.5135\n",
      "Epoch 13/1000\n",
      "7500/7500 [==============================] - 27s 4ms/step - loss: 0.6846 - accuracy: 0.5105 - val_loss: 0.6845 - val_accuracy: 0.5156\n",
      "Epoch 14/1000\n",
      "7500/7500 [==============================] - 26s 3ms/step - loss: 0.6846 - accuracy: 0.5096 - val_loss: 0.6847 - val_accuracy: 0.5381\n",
      "Epoch 15/1000\n",
      "7500/7500 [==============================] - 26s 4ms/step - loss: 0.6846 - accuracy: 0.5082 - val_loss: 0.6847 - val_accuracy: 0.5051\n",
      "Epoch 16/1000\n",
      "7500/7500 [==============================] - 27s 4ms/step - loss: 0.6846 - accuracy: 0.5091 - val_loss: 0.6846 - val_accuracy: 0.5179\n",
      "Epoch 17/1000\n",
      "7500/7500 [==============================] - 27s 4ms/step - loss: 0.6846 - accuracy: 0.5082 - val_loss: 0.6846 - val_accuracy: 0.5150\n",
      "Epoch 18/1000\n",
      "7500/7500 [==============================] - 26s 3ms/step - loss: 0.6846 - accuracy: 0.5101 - val_loss: 0.6847 - val_accuracy: 0.5055\n",
      "Epoch 19/1000\n",
      "7500/7500 [==============================] - 26s 4ms/step - loss: 0.6846 - accuracy: 0.5092 - val_loss: 0.6846 - val_accuracy: 0.5271\n",
      "Epoch 20/1000\n",
      "7500/7500 [==============================] - 25s 3ms/step - loss: 0.6846 - accuracy: 0.5106 - val_loss: 0.6846 - val_accuracy: 0.5200\n",
      "Epoch 21/1000\n",
      "7500/7500 [==============================] - 27s 4ms/step - loss: 0.6846 - accuracy: 0.5104 - val_loss: 0.6846 - val_accuracy: 0.5148\n",
      "Epoch 22/1000\n",
      "7500/7500 [==============================] - 26s 3ms/step - loss: 0.6846 - accuracy: 0.5095 - val_loss: 0.6846 - val_accuracy: 0.5271\n",
      "Epoch 23/1000\n",
      "7500/7500 [==============================] - 26s 3ms/step - loss: 0.6846 - accuracy: 0.5087 - val_loss: 0.6846 - val_accuracy: 0.5178\n",
      "Restoring model weights from the end of the best epoch.\n",
      "Epoch 00023: early stopping\n",
      "STEP 2...\n",
      "Epoch 1/1000\n",
      "7500/7500 [==============================] - 26s 3ms/step - loss: 0.6887 - accuracy: 0.3492 - val_loss: 0.6884 - val_accuracy: 0.3409\n",
      "Epoch 2/1000\n",
      "7500/7500 [==============================] - 25s 3ms/step - loss: 0.6887 - accuracy: 0.3447 - val_loss: 0.6885 - val_accuracy: 0.3588\n",
      "Epoch 3/1000\n",
      "7500/7500 [==============================] - 27s 4ms/step - loss: 0.6887 - accuracy: 0.3459 - val_loss: 0.6884 - val_accuracy: 0.3495\n",
      "Epoch 4/1000\n",
      "7500/7500 [==============================] - 27s 4ms/step - loss: 0.6887 - accuracy: 0.3469 - val_loss: 0.6884 - val_accuracy: 0.3607\n",
      "Epoch 5/1000\n",
      "7500/7500 [==============================] - 26s 3ms/step - loss: 0.6887 - accuracy: 0.3462 - val_loss: 0.6884 - val_accuracy: 0.3364\n",
      "Epoch 6/1000\n",
      "7500/7500 [==============================] - 26s 4ms/step - loss: 0.6887 - accuracy: 0.3478 - val_loss: 0.6884 - val_accuracy: 0.3428\n",
      "Epoch 7/1000\n",
      "7500/7500 [==============================] - 27s 4ms/step - loss: 0.6887 - accuracy: 0.3459 - val_loss: 0.6884 - val_accuracy: 0.3488\n",
      "Epoch 8/1000\n",
      "7500/7500 [==============================] - 26s 3ms/step - loss: 0.6886 - accuracy: 0.3459 - val_loss: 0.6883 - val_accuracy: 0.3456\n",
      "Epoch 9/1000\n",
      "7500/7500 [==============================] - 28s 4ms/step - loss: 0.6887 - accuracy: 0.3459 - val_loss: 0.6883 - val_accuracy: 0.3489\n",
      "Epoch 10/1000\n",
      "7500/7500 [==============================] - 26s 3ms/step - loss: 0.6886 - accuracy: 0.3460 - val_loss: 0.6883 - val_accuracy: 0.3476\n",
      "Epoch 11/1000\n",
      "7500/7500 [==============================] - 27s 4ms/step - loss: 0.6886 - accuracy: 0.3450 - val_loss: 0.6884 - val_accuracy: 0.3519\n",
      "Epoch 12/1000\n",
      "7500/7500 [==============================] - 26s 4ms/step - loss: 0.6887 - accuracy: 0.3454 - val_loss: 0.6884 - val_accuracy: 0.3507\n",
      "Epoch 13/1000\n",
      "7500/7500 [==============================] - 27s 4ms/step - loss: 0.6886 - accuracy: 0.3455 - val_loss: 0.6885 - val_accuracy: 0.3533\n",
      "Epoch 14/1000\n",
      "7500/7500 [==============================] - 26s 3ms/step - loss: 0.6887 - accuracy: 0.3455 - val_loss: 0.6885 - val_accuracy: 0.3607\n",
      "Epoch 15/1000\n",
      "7500/7500 [==============================] - 26s 3ms/step - loss: 0.6886 - accuracy: 0.3471 - val_loss: 0.6886 - val_accuracy: 0.3610\n",
      "Epoch 16/1000\n",
      "7500/7500 [==============================] - 27s 4ms/step - loss: 0.6886 - accuracy: 0.3461 - val_loss: 0.6884 - val_accuracy: 0.3476\n",
      "Epoch 17/1000\n",
      "7500/7500 [==============================] - 25s 3ms/step - loss: 0.6887 - accuracy: 0.3452 - val_loss: 0.6884 - val_accuracy: 0.3525\n",
      "Epoch 18/1000\n",
      "7500/7500 [==============================] - 25s 3ms/step - loss: 0.6886 - accuracy: 0.3464 - val_loss: 0.6883 - val_accuracy: 0.3472\n",
      "Restoring model weights from the end of the best epoch.\n",
      "Epoch 00018: early stopping\n",
      "ITERATION: 2\n",
      "STEP 1...\n",
      "Epoch 1/1000\n",
      "7500/7500 [==============================] - 25s 3ms/step - loss: 0.6953 - accuracy: 0.4125 - val_loss: 0.6952 - val_accuracy: 0.4195\n",
      "Epoch 2/1000\n",
      "7500/7500 [==============================] - 26s 3ms/step - loss: 0.6952 - accuracy: 0.4165 - val_loss: 0.6953 - val_accuracy: 0.4277\n",
      "Epoch 3/1000\n",
      "7500/7500 [==============================] - 26s 3ms/step - loss: 0.6952 - accuracy: 0.4145 - val_loss: 0.6953 - val_accuracy: 0.4256\n",
      "Epoch 4/1000\n",
      "7500/7500 [==============================] - 26s 3ms/step - loss: 0.6952 - accuracy: 0.4141 - val_loss: 0.6952 - val_accuracy: 0.4203\n",
      "Epoch 5/1000\n",
      "7500/7500 [==============================] - 27s 4ms/step - loss: 0.6952 - accuracy: 0.4161 - val_loss: 0.6952 - val_accuracy: 0.4124\n",
      "Epoch 6/1000\n",
      "7500/7500 [==============================] - 26s 3ms/step - loss: 0.6952 - accuracy: 0.4151 - val_loss: 0.6952 - val_accuracy: 0.4107\n",
      "Epoch 7/1000\n",
      "7500/7500 [==============================] - 26s 3ms/step - loss: 0.6952 - accuracy: 0.4134 - val_loss: 0.6952 - val_accuracy: 0.3963\n",
      "Epoch 8/1000\n",
      "7500/7500 [==============================] - 27s 4ms/step - loss: 0.6951 - accuracy: 0.4146 - val_loss: 0.6952 - val_accuracy: 0.4188\n",
      "Epoch 9/1000\n",
      "7500/7500 [==============================] - 26s 3ms/step - loss: 0.6951 - accuracy: 0.4162 - val_loss: 0.6952 - val_accuracy: 0.4200\n",
      "Epoch 10/1000\n",
      "7500/7500 [==============================] - 26s 3ms/step - loss: 0.6951 - accuracy: 0.4147 - val_loss: 0.6952 - val_accuracy: 0.4233\n",
      "Epoch 11/1000\n",
      "7500/7500 [==============================] - 27s 4ms/step - loss: 0.6951 - accuracy: 0.4160 - val_loss: 0.6953 - val_accuracy: 0.4254\n",
      "Epoch 12/1000\n",
      "7500/7500 [==============================] - 27s 4ms/step - loss: 0.6951 - accuracy: 0.4165 - val_loss: 0.6952 - val_accuracy: 0.4208\n",
      "Epoch 13/1000\n",
      "7500/7500 [==============================] - 27s 4ms/step - loss: 0.6951 - accuracy: 0.4147 - val_loss: 0.6952 - val_accuracy: 0.4199\n",
      "Epoch 14/1000\n"
     ]
    },
    {
     "name": "stdout",
     "output_type": "stream",
     "text": [
      "7500/7500 [==============================] - 25s 3ms/step - loss: 0.6951 - accuracy: 0.4169 - val_loss: 0.6952 - val_accuracy: 0.4271\n",
      "Epoch 15/1000\n",
      "7500/7500 [==============================] - 27s 4ms/step - loss: 0.6951 - accuracy: 0.4171 - val_loss: 0.6952 - val_accuracy: 0.4171\n",
      "Epoch 16/1000\n",
      "7500/7500 [==============================] - 26s 3ms/step - loss: 0.6951 - accuracy: 0.4160 - val_loss: 0.6952 - val_accuracy: 0.4096\n",
      "Epoch 17/1000\n",
      "7500/7500 [==============================] - 27s 4ms/step - loss: 0.6951 - accuracy: 0.4172 - val_loss: 0.6951 - val_accuracy: 0.4080\n",
      "Epoch 18/1000\n",
      "7500/7500 [==============================] - 27s 4ms/step - loss: 0.6951 - accuracy: 0.4145 - val_loss: 0.6951 - val_accuracy: 0.4215\n",
      "Epoch 19/1000\n",
      "7500/7500 [==============================] - 26s 4ms/step - loss: 0.6951 - accuracy: 0.4181 - val_loss: 0.6952 - val_accuracy: 0.4139\n",
      "Epoch 20/1000\n",
      "7500/7500 [==============================] - 26s 3ms/step - loss: 0.6951 - accuracy: 0.4165 - val_loss: 0.6952 - val_accuracy: 0.4282\n",
      "Epoch 21/1000\n",
      "7500/7500 [==============================] - 27s 4ms/step - loss: 0.6951 - accuracy: 0.4165 - val_loss: 0.6952 - val_accuracy: 0.4274\n",
      "Epoch 22/1000\n",
      "7500/7500 [==============================] - 27s 4ms/step - loss: 0.6951 - accuracy: 0.4167 - val_loss: 0.6952 - val_accuracy: 0.4304\n",
      "Epoch 23/1000\n",
      "7500/7500 [==============================] - 26s 3ms/step - loss: 0.6951 - accuracy: 0.4189 - val_loss: 0.6951 - val_accuracy: 0.4038\n",
      "Epoch 24/1000\n",
      "7500/7500 [==============================] - 27s 4ms/step - loss: 0.6951 - accuracy: 0.4141 - val_loss: 0.6954 - val_accuracy: 0.4332\n",
      "Epoch 25/1000\n",
      "7500/7500 [==============================] - 26s 3ms/step - loss: 0.6951 - accuracy: 0.4186 - val_loss: 0.6952 - val_accuracy: 0.4235\n",
      "Epoch 26/1000\n",
      "7500/7500 [==============================] - 27s 4ms/step - loss: 0.6951 - accuracy: 0.4149 - val_loss: 0.6951 - val_accuracy: 0.4184\n",
      "Epoch 27/1000\n",
      "7500/7500 [==============================] - 27s 4ms/step - loss: 0.6951 - accuracy: 0.4170 - val_loss: 0.6951 - val_accuracy: 0.4089\n",
      "Epoch 28/1000\n",
      "7500/7500 [==============================] - 27s 4ms/step - loss: 0.6951 - accuracy: 0.4170 - val_loss: 0.6952 - val_accuracy: 0.4169\n",
      "Epoch 29/1000\n",
      "7500/7500 [==============================] - 27s 4ms/step - loss: 0.6951 - accuracy: 0.4162 - val_loss: 0.6952 - val_accuracy: 0.4204\n",
      "Epoch 30/1000\n",
      "7500/7500 [==============================] - 27s 4ms/step - loss: 0.6951 - accuracy: 0.4152 - val_loss: 0.6952 - val_accuracy: 0.4280\n",
      "Epoch 31/1000\n",
      "7500/7500 [==============================] - 27s 4ms/step - loss: 0.6951 - accuracy: 0.4161 - val_loss: 0.6952 - val_accuracy: 0.4227\n",
      "Epoch 32/1000\n",
      "7500/7500 [==============================] - 26s 4ms/step - loss: 0.6951 - accuracy: 0.4156 - val_loss: 0.6951 - val_accuracy: 0.4168\n",
      "Epoch 33/1000\n",
      "6286/7500 [========================>.....] - ETA: 3s - loss: 0.6951 - accuracy: 0.4178"
     ]
    }
   ],
   "source": [
    "weights, models, history = multifold(dims, iterations, np.c_[pT_true/100.-2,m_true/10.-2], np.c_[pT_reco/100.-2,m_reco/10.-2], np.c_[pT_reco_alt/100.-2,m_reco_alt/10.-2], verbose=1)"
   ]
  },
  {
   "cell_type": "code",
   "execution_count": null,
   "metadata": {},
   "outputs": [],
   "source": [
    "    for i in range(iterations):\n",
    "    fig = plt.figure(figsize=(8, 6)) \n",
    "    gs = gridspec.GridSpec(1, 1, height_ratios=[1]) \n",
    "    ax0 = plt.subplot(gs[0])\n",
    "    ax0.yaxis.set_ticks_position('both')\n",
    "    ax0.xaxis.set_ticks_position('both')\n",
    "    ax0.tick_params(direction=\"in\",which=\"both\")\n",
    "    ax0.minorticks_on()\n",
    "    plt.xticks(fontsize=20)\n",
    "    plt.yticks(fontsize=20)\n",
    "\n",
    "    OF,_,_  = plt.hist(m_true_alt,bins=np.linspace(0,70,30),color=\"blue\",label=\"Target\",density=True,alpha=0.2)\n",
    "    T,_,_  = plt.hist(m_true,bins=np.linspace(0,70,30),ls=\":\",histtype=\"step\",color=\"black\",lw=3,label=\"Prior\",density=True)\n",
    "    G,_,_ = plt.hist(m_true,weights=weights[i,1],bins=np.linspace(0,70,30),lw=3,histtype=\"step\",ls=\"-\",color=\"black\",label=\"OmniFold (it. \"+str(i)+\")\",density=True)\n",
    "    plt.legend()\n",
    "    plt.xlabel(\"Truth jet mass [GeV]\")\n",
    "    plt.ylabel(\"Normalized to unity\")\n",
    "\n",
    "    fig.savefig('figures/OmniFold_iteration_'+str(i)+'.pdf',bbox_inches='tight')"
   ]
  },
  {
   "cell_type": "code",
   "execution_count": null,
   "metadata": {},
   "outputs": [],
   "source": [
    "myweights = of.omnifold(theta0,theta_unknown_S,2,model)"
   ]
  },
  {
   "cell_type": "code",
   "execution_count": null,
   "metadata": {},
   "outputs": [],
   "source": [
    "_,_,_=plt.hist(theta0_G,bins = bins,color='blue',alpha=0.5,label=\"MC, true\")\n",
    "_,_,_=plt.hist(theta_unknown_G,bins = bins,color='orange',alpha=0.5,label=\"Data, true\")\n",
    "_,_,_=plt.hist(theta0_G,weights=myweights[-1, 0, :], bins = bins,color='black',histtype=\"step\",label=\"OmniFolded\",lw=\"2\")\n",
    "plt.xlabel(\"x\")\n",
    "plt.ylabel(\"events\")\n",
    "plt.legend(frameon=False)"
   ]
  },
  {
   "cell_type": "code",
   "execution_count": null,
   "metadata": {},
   "outputs": [],
   "source": [
    "print(\"Moment predictions:\")\n",
    "print(\"Gen Mean:\", np.average(theta0_G))\n",
    "print(\"Truth Mean:\", np.average(theta_unknown_G))\n",
    "print(\"Unfolded Gen Mean:\", np.average(theta0_G,weights=myweights[-1, 0, :]))"
   ]
  },
  {
   "cell_type": "code",
   "execution_count": null,
   "metadata": {},
   "outputs": [],
   "source": [
    "1+1"
   ]
  },
  {
   "cell_type": "code",
   "execution_count": null,
   "metadata": {},
   "outputs": [],
   "source": []
  }
 ],
 "metadata": {
  "kernelspec": {
   "display_name": "Python 3",
   "language": "python",
   "name": "python3"
  },
  "language_info": {
   "codemirror_mode": {
    "name": "ipython",
    "version": 3
   },
   "file_extension": ".py",
   "mimetype": "text/x-python",
   "name": "python",
   "nbconvert_exporter": "python",
   "pygments_lexer": "ipython3",
   "version": "3.8.13"
  }
 },
 "nbformat": 4,
 "nbformat_minor": 4
}
