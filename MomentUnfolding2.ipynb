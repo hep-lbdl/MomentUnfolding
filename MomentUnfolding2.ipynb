{
 "cells": [
  {
   "cell_type": "code",
   "execution_count": 36,
   "metadata": {},
   "outputs": [],
   "source": [
    "import numpy as np\n",
    "import matplotlib.pyplot as plt\n",
    "import energyflow as ef\n",
    "import energyflow.archs\n",
    "from energyflow.archs import PFN\n",
    "from matplotlib import gridspec\n",
    "from sklearn.model_selection import train_test_split\n",
    "import tensorflow as tf\n",
    "from tensorflow.keras.layers import Dense, Input, Layer, concatenate\n",
    "from tensorflow.keras.models import Model\n",
    "import tensorflow.keras.backend as K\n",
    "from tensorflow.keras.layers import BatchNormalization\n",
    "\n",
    "plt.rc('font', size=20)\n",
    "plt.rcParams[\"font.family\"] = \"serif\"\n"
   ]
  },
  {
   "cell_type": "code",
   "execution_count": 37,
   "metadata": {},
   "outputs": [],
   "source": [
    "physical_devices = tf.config.list_physical_devices('GPU') \n",
    "for device in physical_devices:\n",
    "    tf.config.experimental.set_memory_growth(device, True)"
   ]
  },
  {
   "cell_type": "code",
   "execution_count": 38,
   "metadata": {},
   "outputs": [
    {
     "name": "stderr",
     "output_type": "stream",
     "text": [
      "<__array_function__ internals>:5: VisibleDeprecationWarning: Creating an ndarray from ragged nested sequences (which is a list-or-tuple of lists-or-tuples-or ndarrays with different lengths or shapes) is deprecated. If you meant to do this, you must specify 'dtype=object' when creating the ndarray.\n"
     ]
    }
   ],
   "source": [
    "#These are the same datasets from the OmniFold paper https://arxiv.org/abs/1911.09107.  More detail at https://energyflow.network/docs/datasets/.\n",
    "#Pythia and Herwig are two generators; one will be treated here as the \"simulation\" and one as \"data\".\n",
    "datasets = {'Pythia26': ef.zjets_delphes.load('Pythia26', num_data=1000000),\n",
    "            'Herwig': ef.zjets_delphes.load('Herwig', num_data=1000000)}"
   ]
  },
  {
   "cell_type": "markdown",
   "metadata": {},
   "source": [
    "## Set up the observables"
   ]
  },
  {
   "cell_type": "code",
   "execution_count": 4,
   "metadata": {},
   "outputs": [],
   "source": [
    "def is_charged(myin):\n",
    "    if (myin == 0):\n",
    "        return 0\n",
    "    elif (myin == 0.1):\n",
    "        return 1\n",
    "    elif (myin == 0.2):\n",
    "        return -1\n",
    "    elif (myin == 0.3):\n",
    "        return 0\n",
    "    elif (myin == 0.4):\n",
    "        return -1\n",
    "    elif (myin == 0.5):\n",
    "        return 1\n",
    "    elif (myin == 0.6):\n",
    "        return -1\n",
    "    elif (myin == 0.7):\n",
    "        return 1\n",
    "    elif (myin == 0.8):\n",
    "        return 1\n",
    "    elif (myin == 0.9):\n",
    "        return -1\n",
    "    elif (myin == 1.0):\n",
    "        return 1\n",
    "    elif (myin == 1.1):\n",
    "        return -1\n",
    "    elif (myin == 1.2):\n",
    "        return 0\n",
    "    elif (myin == 1.3):\n",
    "        return 0"
   ]
  },
  {
   "cell_type": "markdown",
   "metadata": {},
   "source": [
    "$$mycharges = \\frac{\\sum Q \\sqrt{p_T}}{\\sum\\sqrt{p_T}}$$\n",
    "\n",
    "\n",
    "$$mycharges2 = \\frac{\\sum Q\\; p_T}{\\sum p_T}$$"
   ]
  },
  {
   "cell_type": "code",
   "execution_count": null,
   "metadata": {},
   "outputs": [],
   "source": [
    "\n",
    "\n",
    "for dataset in datasets:\n",
    "    mycharges = []\n",
    "    mycharges2 = []\n",
    "    for i in range(len(datasets[dataset]['gen_particles'])):\n",
    "        pTs = datasets[dataset]['gen_particles'][i][:,0]\n",
    "        charges = [is_charged(datasets[dataset]['gen_particles'][i][:,3][j]) for j in range(len(datasets[dataset]['gen_particles'][i][:,3]))]\n",
    "        mycharges+=[np.sum(charges*pTs**0.5)/np.sum(pTs**0.5)]\n",
    "        mycharges2+=[np.sum(np.abs(charges)*pTs)/np.sum(pTs)]\n",
    "    datasets[dataset]['gen_charge'] = mycharges\n",
    "    datasets[dataset]['gen_pTcharge'] = mycharges2\n",
    "\n",
    "    mycharges = []\n",
    "    mycharges2 = []\n",
    "    for i in range(len(datasets[dataset]['sim_particles'])):\n",
    "        pTs = datasets[dataset]['sim_particles'][i][:,0]\n",
    "        charges = [is_charged(datasets[dataset]['sim_particles'][i][:,3][j]) for j in range(len(datasets[dataset]['sim_particles'][i][:,3]))]\n",
    "        mycharges+=[np.sum(charges*pTs**0.5)/np.sum(pTs**0.5)]\n",
    "        mycharges2+=[np.sum(np.abs(charges)*pTs)/np.sum(pTs)]\n",
    "    datasets[dataset]['sim_charge'] = mycharges\n",
    "    datasets[dataset]['sim_pTcharge'] = mycharges2"
   ]
  },
  {
   "cell_type": "code",
   "execution_count": null,
   "metadata": {},
   "outputs": [],
   "source": [
    "datasets['Pythia26'].keys()"
   ]
  },
  {
   "cell_type": "code",
   "execution_count": null,
   "metadata": {},
   "outputs": [],
   "source": [
    "tau2s_Pythia_sim = datasets['Pythia26']['sim_tau2s']\n",
    "tau2s_Herwig_sim = datasets['Herwig']['sim_tau2s']\n",
    "\n",
    "tau1s_Pythia_sim = datasets['Pythia26']['sim_widths']\n",
    "tau1s_Herwig_sim = datasets['Herwig']['sim_widths']\n",
    "\n",
    "tau2s_Pythia_gen = datasets['Pythia26']['gen_tau2s']\n",
    "tau2s_Herwig_gen = datasets['Herwig']['gen_tau2s']\n",
    "\n",
    "tau1s_Pythia_gen = datasets['Pythia26']['gen_widths']\n",
    "tau1s_Herwig_gen = datasets['Herwig']['gen_widths']"
   ]
  },
  {
   "cell_type": "code",
   "execution_count": 39,
   "metadata": {},
   "outputs": [],
   "source": [
    "#\n",
    "w_true = datasets['Pythia26']['gen_widths']\n",
    "w_reco = datasets['Pythia26']['sim_widths']\n",
    "w_true_alt = datasets['Herwig']['gen_widths']\n",
    "w_reco_alt = datasets['Herwig']['sim_widths']"
   ]
  },
  {
   "cell_type": "code",
   "execution_count": null,
   "metadata": {},
   "outputs": [],
   "source": [
    "print(f'{w_true = })"
   ]
  },
  {
   "cell_type": "code",
   "execution_count": 5,
   "metadata": {},
   "outputs": [
    {
     "ename": "KeyError",
     "evalue": "'gen_charge'",
     "output_type": "error",
     "traceback": [
      "\u001b[0;31m---------------------------------------------------------------------------\u001b[0m",
      "\u001b[0;31mKeyError\u001b[0m                                  Traceback (most recent call last)",
      "\u001b[0;32m<ipython-input-5-4c58584fe635>\u001b[0m in \u001b[0;36m<module>\u001b[0;34m\u001b[0m\n\u001b[1;32m     11\u001b[0m \u001b[0;34m\u001b[0m\u001b[0m\n\u001b[1;32m     12\u001b[0m \u001b[0;31m#\u001b[0m\u001b[0;34m\u001b[0m\u001b[0;34m\u001b[0m\u001b[0;34m\u001b[0m\u001b[0m\n\u001b[0;32m---> 13\u001b[0;31m \u001b[0mq_true\u001b[0m \u001b[0;34m=\u001b[0m \u001b[0mnp\u001b[0m\u001b[0;34m.\u001b[0m\u001b[0marray\u001b[0m\u001b[0;34m(\u001b[0m\u001b[0mdatasets\u001b[0m\u001b[0;34m[\u001b[0m\u001b[0;34m'Pythia26'\u001b[0m\u001b[0;34m]\u001b[0m\u001b[0;34m[\u001b[0m\u001b[0;34m'gen_charge'\u001b[0m\u001b[0;34m]\u001b[0m\u001b[0;34m)\u001b[0m\u001b[0;34m\u001b[0m\u001b[0;34m\u001b[0m\u001b[0m\n\u001b[0m\u001b[1;32m     14\u001b[0m \u001b[0mq_reco\u001b[0m \u001b[0;34m=\u001b[0m \u001b[0mnp\u001b[0m\u001b[0;34m.\u001b[0m\u001b[0marray\u001b[0m\u001b[0;34m(\u001b[0m\u001b[0mdatasets\u001b[0m\u001b[0;34m[\u001b[0m\u001b[0;34m'Pythia26'\u001b[0m\u001b[0;34m]\u001b[0m\u001b[0;34m[\u001b[0m\u001b[0;34m'sim_charge'\u001b[0m\u001b[0;34m]\u001b[0m\u001b[0;34m)\u001b[0m\u001b[0;34m\u001b[0m\u001b[0;34m\u001b[0m\u001b[0m\n\u001b[1;32m     15\u001b[0m \u001b[0mq_true_alt\u001b[0m \u001b[0;34m=\u001b[0m \u001b[0mnp\u001b[0m\u001b[0;34m.\u001b[0m\u001b[0marray\u001b[0m\u001b[0;34m(\u001b[0m\u001b[0mdatasets\u001b[0m\u001b[0;34m[\u001b[0m\u001b[0;34m'Herwig'\u001b[0m\u001b[0;34m]\u001b[0m\u001b[0;34m[\u001b[0m\u001b[0;34m'gen_charge'\u001b[0m\u001b[0;34m]\u001b[0m\u001b[0;34m)\u001b[0m\u001b[0;34m\u001b[0m\u001b[0;34m\u001b[0m\u001b[0m\n",
      "\u001b[0;31mKeyError\u001b[0m: 'gen_charge'"
     ]
    }
   ],
   "source": [
    "pT_true = datasets['Pythia26']['gen_jets'][:,0]\n",
    "m_true = datasets['Pythia26']['gen_jets'][:,3]\n",
    "pT_reco = datasets['Pythia26']['sim_jets'][:,0]\n",
    "m_reco = datasets['Pythia26']['sim_jets'][:,3]\n",
    "\n",
    "pT_true_alt = datasets['Herwig']['gen_jets'][:,0]\n",
    "m_true_alt = datasets['Herwig']['gen_jets'][:,3]\n",
    "pT_reco_alt = datasets['Herwig']['sim_jets'][:,0]\n",
    "m_reco_alt = datasets['Herwig']['sim_jets'][:,3]\n",
    "\n",
    "\n",
    "#\n",
    "q_true = np.array(datasets['Pythia26']['gen_charge'])\n",
    "q_reco = np.array(datasets['Pythia26']['sim_charge'])\n",
    "q_true_alt = np.array(datasets['Herwig']['gen_charge'])\n",
    "q_reco_alt = np.array(datasets['Herwig']['sim_charge'])\n",
    "\n",
    "#\n",
    "r_true = np.array(datasets['Pythia26']['gen_pTcharge'])\n",
    "r_reco = np.array(datasets['Pythia26']['sim_pTcharge'])\n",
    "r_true_alt = np.array(datasets['Herwig']['gen_pTcharge'])\n",
    "r_reco_alt = np.array(datasets['Herwig']['sim_pTcharge'])"
   ]
  },
  {
   "cell_type": "code",
   "execution_count": null,
   "metadata": {},
   "outputs": [],
   "source": [
    "plt.hist(r_true,bins=np.linspace(0,1.5,20))\n",
    "plt.axvline(2/3, color=\"black\",ls=\":\")\n",
    "plt.show()"
   ]
  },
  {
   "cell_type": "markdown",
   "metadata": {},
   "source": [
    "## Moment OmniFolding"
   ]
  },
  {
   "cell_type": "code",
   "execution_count": 10,
   "metadata": {},
   "outputs": [],
   "source": [
    "gauss_data = np.random.normal(0,1,100000)\n",
    "gauss_sim = np.random.normal(-0.5,1,100000)"
   ]
  },
  {
   "cell_type": "code",
   "execution_count": 40,
   "metadata": {},
   "outputs": [],
   "source": [
    "def weighted_binary_crossentropy(y_true, y_pred):\n",
    "    weights = tf.gather(y_true, [1], axis=1) # event weights\n",
    "    y_true = tf.gather(y_true, [0], axis=1) # actual y_true for loss\n",
    "    \n",
    "    # Clip the prediction value to prevent NaN's and Inf's\n",
    "    epsilon = K.epsilon()\n",
    "    y_pred = K.clip(y_pred, epsilon, 1. - epsilon)\n",
    "    t_loss = -weights * ((y_true) * K.log(y_pred) +\n",
    "                         (1 - y_true) * K.log(1 - y_pred))\n",
    "    return K.mean(t_loss)"
   ]
  },
  {
   "cell_type": "code",
   "execution_count": null,
   "metadata": {},
   "outputs": [],
   "source": [
    "losses = []\n",
    "for lambda1 in np.linspace(-1,1,20):\n",
    "\n",
    "    xvals_1 = np.concatenate([gauss_data,gauss_sim])\n",
    "    yvals_1 = np.concatenate([np.ones(len(gauss_data)),np.zeros(len(gauss_sim))])\n",
    "    weights_1 = np.concatenate([np.ones(len(gauss_data)),np.exp(lambda1*gauss_sim)*len(gauss_data)/np.sum(np.exp(lambda1*gauss_sim))])\n",
    "\n",
    "    X_train_1, X_test_1, Y_train_1, Y_test_1, w_train_1, w_test_1 = train_test_split(xvals_1, yvals_1, weights_1)\n",
    "\n",
    "    Y_train_2 = np.stack((Y_train_1, w_train_1), axis=1)\n",
    "    Y_test_2 = np.stack((Y_test_1, w_test_1), axis=1)\n",
    "\n",
    "    inputs = Input((1, ))\n",
    "    hidden_layer_1 = Dense(50, activation='relu')(inputs)\n",
    "    hidden_layer_2 = Dense(50, activation='relu')(hidden_layer_1)\n",
    "    hidden_layer_3 = Dense(50, activation='relu')(hidden_layer_2)\n",
    "    outputs = Dense(1, activation='sigmoid')(hidden_layer_3)\n",
    "    model = Model(inputs=inputs, outputs=outputs)\n",
    "    \n",
    "    model.compile(loss=weighted_binary_crossentropy, optimizer='Adam', metrics=['accuracy'])\n",
    "    model.fit(X_train_1,\n",
    "              Y_train_2,\n",
    "              epochs=10,\n",
    "              batch_size=1000,\n",
    "              verbose=0)\n",
    "    losses+=[model.history.history['loss'][-1]]"
   ]
  },
  {
   "cell_type": "code",
   "execution_count": null,
   "metadata": {},
   "outputs": [],
   "source": [
    "#plots with hand inserted lambda\n",
    "lambda1 = 0.5\n",
    "\n",
    "xvals_1 = np.concatenate([gauss_data,gauss_sim])\n",
    "yvals_1 = np.concatenate([np.ones(len(gauss_data)),np.zeros(len(gauss_sim))])\n",
    "weights_1 = np.concatenate([np.ones(len(gauss_data)),np.exp(lambda1*gauss_sim)*len(gauss_data)/np.sum(np.exp(lambda1*gauss_sim))])\n",
    "\n",
    "X_train_1, X_test_1, Y_train_1, Y_test_1, w_train_1, w_test_1 = train_test_split(xvals_1, yvals_1, weights_1)\n",
    "\n",
    "fig, ax = plt.subplots(figsize=(10, 7))\n",
    "\n",
    "# ax.xaxis.label.set_color('white')        #setting up X-axis label color to yellow\n",
    "# ax.yaxis.label.set_color('white')          #setting up Y-axis label color to blue\n",
    "\n",
    "# ax.tick_params(axis='x', colors='white')    #setting up X-axis tick color to red\n",
    "# ax.tick_params(axis='y', colors='white')  #setting up Y-axis tick color to black\n",
    "\n",
    "# ax.spines['left'].set_color('white')        # setting up Y-axis tick color to red\n",
    "# ax.spines['top'].set_color('white')\n",
    "# ax.spines['right'].set_color('white') \n",
    "# ax.spines['bottom'].set_color('white') \n",
    "_,_,_=plt.hist(X_test_1[Y_test_1==1],bins=np.linspace(-4,4,20),alpha=0.5,label=\"data\")\n",
    "_,_,_=plt.hist(X_test_1[Y_test_1==0],bins=np.linspace(-4,4,20),alpha=0.5,label=\"MC\")\n",
    "_,_,_=plt.hist(X_test_1[Y_test_1==0],bins=np.linspace(-4,4,20),weights=w_test_1[Y_test_1==0],histtype=\"step\",color=\"r\",ls=\":\", lw=4,label=\"weighted MC\")\n",
    "plt.legend(fontsize=15)\n",
    "plt.ylim([0,5000])\n",
    "plt.xlabel(\"x\")\n",
    "plt.ylabel(\"Trials\")\n",
    "plt.savefig(\"gaussexample.pdf\", bbox_inches='tight', transparent=True)\n",
    "plt.show()"
   ]
  },
  {
   "cell_type": "code",
   "execution_count": null,
   "metadata": {},
   "outputs": [],
   "source": [
    "fig, ax = plt.subplots(figsize=(10, 7))\n",
    "\n",
    "# ax.xaxis.label.set_color('white')        #setting up X-axis label color to yellow\n",
    "# ax.yaxis.label.set_color('white')          #setting up Y-axis label color to blue\n",
    "\n",
    "# ax.tick_params(axis='x', colors='white')    #setting up X-axis tick color to red\n",
    "# ax.tick_params(axis='y', colors='white')  #setting up Y-axis tick color to black\n",
    "\n",
    "# ax.spines['left'].set_color('white')        # setting up Y-axis tick color to red\n",
    "# ax.spines['top'].set_color('white')\n",
    "# ax.spines['right'].set_color('white') \n",
    "# ax.spines['bottom'].set_color('white') \n",
    "plt.plot(np.linspace(-1,1,20),losses, lw=4)\n",
    "plt.axvline(1/2, color=\"r\",ls=\":\", lw=4)\n",
    "plt.ylabel(\"Loss\")\n",
    "plt.xlabel(r\"$\\mu$\")\n",
    "plt.savefig(\"gaussloss.pdf\", bbox_inches='tight',  transparent=True)\n",
    "\n",
    "plt.show()"
   ]
  },
  {
   "cell_type": "code",
   "execution_count": 41,
   "metadata": {},
   "outputs": [
    {
     "name": "stdout",
     "output_type": "stream",
     "text": [
      "0\n",
      "1\n",
      "2\n",
      "3\n",
      "4\n",
      "5\n",
      "6\n",
      "7\n",
      "8\n",
      "9\n",
      "10\n",
      "11\n",
      "12\n",
      "13\n",
      "14\n",
      "15\n",
      "16\n",
      "17\n",
      "18\n",
      "19\n"
     ]
    }
   ],
   "source": [
    "#scan over lambda_1\n",
    "\n",
    "losses_width = []\n",
    "n = 0\n",
    "for lambda1 in np.linspace(-2,10,20):\n",
    "\n",
    "    xvals_1 = np.concatenate([w_true_alt,w_true])\n",
    "    yvals_1 = np.concatenate([np.ones(len(w_true_alt)),np.zeros(len(w_true))])\n",
    "    weights_1 = np.concatenate([np.ones(len(w_true_alt)),np.exp(lambda1*w_true)*len(w_true_alt)/np.sum(np.exp(lambda1*w_true))])\n",
    "\n",
    "    X_train_1, X_test_1, Y_train_1, Y_test_1, w_train_1, w_test_1 = train_test_split(xvals_1, yvals_1, weights_1)\n",
    "\n",
    "    Y_train_2 = np.stack((Y_train_1, w_train_1), axis=1)\n",
    "    Y_test_2 = np.stack((Y_test_1, w_test_1), axis=1)\n",
    "\n",
    "    inputs = Input((1, ))\n",
    "    hidden_layer_1 = Dense(50, activation='relu')(inputs)\n",
    "    hidden_layer_2 = Dense(50, activation='relu')(hidden_layer_1)\n",
    "    hidden_layer_3 = Dense(50, activation='relu')(hidden_layer_2)\n",
    "    outputs = Dense(1, activation='sigmoid')(hidden_layer_3)\n",
    "    model = Model(inputs=inputs, outputs=outputs)\n",
    "    \n",
    "    model.compile(loss=weighted_binary_crossentropy, optimizer='Adam', metrics=['accuracy'])\n",
    "    model.fit(X_train_1,\n",
    "              Y_train_2,\n",
    "              epochs=3,\n",
    "              batch_size=1000,\n",
    "              verbose=0)\n",
    "    print(n)\n",
    "    n+=1\n",
    "    losses_width+=[model.history.history['loss'][-1]]"
   ]
  },
  {
   "cell_type": "code",
   "execution_count": 42,
   "metadata": {},
   "outputs": [
    {
     "name": "stdout",
     "output_type": "stream",
     "text": [
      "1\n",
      "2\n",
      "3\n",
      "4\n",
      "5\n",
      "6\n",
      "7\n",
      "8\n",
      "9\n",
      "10\n",
      "11\n",
      "12\n",
      "13\n",
      "14\n",
      "15\n",
      "16\n",
      "17\n",
      "18\n",
      "19\n",
      "20\n"
     ]
    }
   ],
   "source": [
    "#larger width\n",
    "\n",
    "losses_width2 = []\n",
    "n = 1\n",
    "for lambda1 in np.linspace(-2,10,20):\n",
    "    print(n)\n",
    "    n += 1\n",
    "    xvals_1 = np.concatenate([w_true_alt,w_true])\n",
    "    yvals_1 = np.concatenate([np.ones(len(w_true_alt)),np.zeros(len(w_true))])\n",
    "    weights_1 = np.concatenate([np.ones(len(w_true_alt)),np.exp(lambda1*w_true**2)*len(w_true_alt)/np.sum(np.exp(lambda1*w_true**2))])\n",
    "\n",
    "    X_train_1, X_test_1, Y_train_1, Y_test_1, w_train_1, w_test_1 = train_test_split(xvals_1, yvals_1, weights_1)\n",
    "\n",
    "    Y_train_2 = np.stack((Y_train_1, w_train_1), axis=1)\n",
    "    Y_test_2 = np.stack((Y_test_1, w_test_1), axis=1)\n",
    "\n",
    "    inputs = Input((1, ))\n",
    "    hidden_layer_1 = Dense(50, activation='relu')(inputs)\n",
    "    hidden_layer_2 = Dense(50, activation='relu')(hidden_layer_1)\n",
    "    hidden_layer_3 = Dense(50, activation='relu')(hidden_layer_2)\n",
    "    outputs = Dense(1, activation='sigmoid')(hidden_layer_3)\n",
    "    model = Model(inputs=inputs, outputs=outputs)\n",
    "    \n",
    "    model.compile(loss=weighted_binary_crossentropy, optimizer='Adam', metrics=['accuracy'])\n",
    "    model.fit(X_train_1,\n",
    "              Y_train_2,\n",
    "              epochs=3,\n",
    "              batch_size=1000,\n",
    "              verbose=0)\n",
    "    losses_width2+=[model.history.history['loss'][-1]]"
   ]
  },
  {
   "cell_type": "code",
   "execution_count": 45,
   "metadata": {},
   "outputs": [
    {
     "data": {
      "image/png": "[encoded data removed]",
      "text/plain": [
       "<Figure size 720x504 with 1 Axes>"
      ]
     },
     "metadata": {
      "needs_background": "light"
     },
     "output_type": "display_data"
    }
   ],
   "source": [
    "lambda1 = 2.5\n",
    "#black is as close as possible (KL) to the orange but has the same mean as the blue\n",
    "xvals_1 = np.concatenate([w_true_alt,w_true])\n",
    "yvals_1 = np.concatenate([np.ones(len(w_true_alt)),np.zeros(len(w_true))])\n",
    "weights_1 = np.concatenate([np.ones(len(w_true_alt)),np.exp(lambda1*w_true)*len(w_true_alt)/np.sum(np.exp(lambda1*w_true))])\n",
    "\n",
    "fig, ax = plt.subplots(figsize=(10, 7))\n",
    "# ax.xaxis.label.set_color('white')        #setting up X-axis label color to yellow\n",
    "# ax.yaxis.label.set_color('white')          #setting up Y-axis label color to blue\n",
    "\n",
    "# ax.tick_params(axis='x', colors='white')    #setting up X-axis tick color to red\n",
    "# ax.tick_params(axis='y', colors='white')  #setting up Y-axis tick color to black\n",
    "\n",
    "# ax.spines['left'].set_color('white')        # setting up Y-axis tick color to red\n",
    "# ax.spines['top'].set_visible(False)\n",
    "# ax.spines['right'].set_visible(False)\n",
    "# ax.spines['bottom'].set_color('white') \n",
    "\n",
    "X_train_1, X_test_1, Y_train_1, Y_test_1, w_train_1, w_test_1 = train_test_split(xvals_1, yvals_1, weights_1)\n",
    "\n",
    "_,_,_=plt.hist(X_test_1[Y_test_1==1],bins=np.linspace(0,1,30),alpha=0.5,label=\"truth\")\n",
    "_,_,_=plt.hist(X_test_1[Y_test_1==0],bins=np.linspace(0,1,30),alpha=0.5,label=\"gen\")\n",
    "_,_,_=plt.hist(X_test_1[Y_test_1==0],bins=np.linspace(0,1,30),weights=w_test_1[Y_test_1==0],histtype=\"step\",color=\"r\",ls=\":\", lw=4,label=\"weighted gen\")\n",
    "plt.legend(fontsize=15)\n",
    "plt.xlabel(\"Jet width\")\n",
    "plt.ylabel(\"Trials\")\n",
    "plt.xlim(0, 0.7)\n",
    "plt.savefig(\"jetexample.pdf\", bbox_inches='tight', transparent=True)"
   ]
  },
  {
   "cell_type": "code",
   "execution_count": 7,
   "metadata": {},
   "outputs": [
    {
     "name": "stdout",
     "output_type": "stream",
     "text": [
      "-1.0 0.1499150224394371 0.12287125553825515 0.11451745095384766\n",
      "-0.42105263157894735 0.14994936895504266 0.1229856940160692 0.11930357792006249\n",
      "0.1578947368421053 0.14984681530935287 0.12287355461678254 0.1243186142165097\n",
      "0.736842105263158 0.14995989520833006 0.12268385935218337 0.12970353465128628\n",
      "1.3157894736842106 0.14990593677718142 0.12260799836066104 0.1356816554706811\n",
      "1.8947368421052633 0.1496912387140729 0.1227781561746979 0.14268039255360984\n",
      "2.473684210526316 0.14993472685451864 0.12305719441491611 0.15035824276618853\n",
      "3.052631578947368 0.14987107283536588 0.1231096771583376 0.1583390360178079\n",
      "3.6315789473684212 0.14949400611448663 0.12264150919952237 0.1665618742431424\n",
      "4.210526315789474 0.15002349331008882 0.12296458418067352 0.17596693080347872\n",
      "4.7894736842105265 0.14990591023404584 0.1230491448714787 0.18654473578980393\n",
      "5.368421052631579 0.1497716441618195 0.12287768702466398 0.19634102190154681\n",
      "5.947368421052632 0.14976878263274826 0.12271181751800274 0.20742137956265028\n",
      "6.526315789473685 0.14999768974546593 0.12273977735990874 0.2194373686536564\n",
      "7.105263157894736 0.1494816678901514 0.12299461576015003 0.23390887953236447\n",
      "7.684210526315789 0.14978992212815212 0.12273583171420123 0.2450094791765992\n",
      "8.263157894736842 0.15009986481255597 0.12272684018322672 0.25868459562449353\n",
      "8.842105263157896 0.14982532569088408 0.12289667808483846 0.27122091635591383\n",
      "9.421052631578949 0.14963403996865046 0.12308341873224835 0.2856260230502707\n",
      "10.0 0.14946442753182507 0.12282483268016152 0.2991359432889922\n"
     ]
    }
   ],
   "source": [
    "for lambda1 in np.linspace(-1,10,20):\n",
    "\n",
    "    xvals_1 = np.concatenate([w_true_alt,w_true])\n",
    "    yvals_1 = np.concatenate([np.ones(len(w_true_alt)),np.zeros(len(w_true))])\n",
    "    weights_1 = np.concatenate([np.ones(len(w_true_alt)),np.exp(lambda1*w_true)*len(w_true_alt)/np.sum(np.exp(lambda1*w_true))])\n",
    "\n",
    "    X_train_1, X_test_1, Y_train_1, Y_test_1, w_train_1, w_test_1 = train_test_split(xvals_1, yvals_1, weights_1)\n",
    "\n",
    "    print(lambda1,np.mean(X_test_1[Y_test_1==1]),np.mean(X_test_1[Y_test_1==0]),np.average(X_test_1[Y_test_1==0],weights=w_test_1[Y_test_1==0]))"
   ]
  },
  {
   "cell_type": "code",
   "execution_count": 12,
   "metadata": {},
   "outputs": [
    {
     "name": "stdout",
     "output_type": "stream",
     "text": [
      "-1.0 0.033618750134091 0.02409695031976676 0.02257562301873861\n",
      "-0.42105263157894735 0.03377255565275985 0.02399036544828064 0.023332891231633675\n",
      "0.1578947368421053 0.033647260668984234 0.024014271522913917 0.02427183133871478\n",
      "0.736842105263158 0.03373906441726578 0.024196013004223606 0.02545205589428857\n",
      "1.3157894736842106 0.03362510378451358 0.024169159877748935 0.026484248123527853\n",
      "1.8947368421052633 0.033755836327689206 0.024133107699210486 0.027620958640023004\n",
      "2.473684210526316 0.03368998909810467 0.024079161253666232 0.02873761969184608\n",
      "3.052631578947368 0.033767730395515595 0.024100677817915875 0.030115037583862126\n",
      "3.6315789473684212 0.0336366038164249 0.0240914726777095 0.03156405853121285\n",
      "4.210526315789474 0.03366053478241145 0.024046316820325774 0.03307579781481924\n",
      "4.7894736842105265 0.03386911241521149 0.024070916469094934 0.03473144853773282\n",
      "5.368421052631579 0.033731845101583176 0.0240482733689934 0.03665133572738789\n",
      "5.947368421052632 0.033611847352118446 0.02408796146134558 0.038668933942743726\n",
      "6.526315789473685 0.03370274501260295 0.024151813778578637 0.04099699577796904\n",
      "7.105263157894736 0.03379650988889959 0.024056948953628494 0.04296318487350096\n",
      "7.684210526315789 0.033617432578775204 0.023979609739212947 0.0451460298299902\n",
      "8.263157894736842 0.03377482544272191 0.024089566005510477 0.04839465036858232\n",
      "8.842105263157896 0.033681705410682855 0.024024901083583232 0.05089869162884551\n",
      "9.421052631578949 0.03383327600262473 0.024011697071517405 0.05380457081747097\n",
      "10.0 0.03371915279563678 0.024084615767718563 0.05765627172473955\n"
     ]
    }
   ],
   "source": [
    "for lambda1 in np.linspace(-1,10,20):\n",
    "\n",
    "    xvals_1 = np.concatenate([w_true_alt,w_true])\n",
    "    yvals_1 = np.concatenate([np.ones(len(w_true_alt)),np.zeros(len(w_true))])\n",
    "    weights_1 = np.concatenate([np.ones(len(w_true_alt)),np.exp(lambda1*w_true**2)*len(w_true_alt)/np.sum(np.exp(lambda1*w_true**2))])\n",
    "\n",
    "    X_train_1, X_test_1, Y_train_1, Y_test_1, w_train_1, w_test_1 = train_test_split(xvals_1, yvals_1, weights_1)\n",
    "\n",
    "    print(lambda1,np.mean(X_test_1[Y_test_1==1]**2),np.mean(X_test_1[Y_test_1==0]**2),np.average(X_test_1[Y_test_1==0]**2,weights=w_test_1[Y_test_1==0]))"
   ]
  },
  {
   "cell_type": "code",
   "execution_count": 46,
   "metadata": {},
   "outputs": [
    {
     "data": {
      "image/png": "[encoded data removed]",
      "text/plain": [
       "<Figure size 720x504 with 1 Axes>"
      ]
     },
     "metadata": {
      "needs_background": "light"
     },
     "output_type": "display_data"
    }
   ],
   "source": [
    "c = 'black'\n",
    "fig, ax = plt.subplots(figsize=(10, 7))\n",
    "ax.xaxis.label.set_color(c)        #setting up X-axis label color to yellow\n",
    "ax.yaxis.label.set_color(c)          #setting up Y-axis label color to blue\n",
    "\n",
    "ax.tick_params(axis='x', colors=c)    #setting up X-axis tick color to red\n",
    "ax.tick_params(axis='y', colors=c)  #setting up Y-axis tick color to black\n",
    "\n",
    "ax.spines['left'].set_color(c)        # setting up Y-axis tick color to red\n",
    "ax.spines['top'].set_color(c)\n",
    "ax.spines['right'].set_color(c) \n",
    "ax.spines['bottom'].set_color(c) \n",
    "\n",
    "\n",
    "losses_width = np.array(losses_width)\n",
    "losses_width2 = np.array(losses_width2)\n",
    "plt.plot(np.linspace(-2,10,20),losses_width, color='r')\n",
    "plt.text(np.linspace(-2,10,20)[-1]-3.5,losses_width[-1]+0.1, r'$\\langle W\\rangle$', color='r')\n",
    "plt.plot(np.linspace(-2,10,20),losses_width2, color='green')\n",
    "plt.text(np.linspace(-2,10,20)[-1],losses_width2[-1], r'$\\langle W^2\\rangle$', color='green')\n",
    "plt.axvline(2.5,color=\"tab:red\",ls=\":\")\n",
    "plt.axvline(4.5,color=\"tab:green\",ls=\":\")\n",
    "plt.ylim([0.65,0.7])\n",
    "plt.ylabel(\"Loss\")\n",
    "plt.xlabel(\"Moments\")\n",
    "plt.text(2.5,0.66,r'True $\\langle W\\rangle$',rotation=90, color='r')\n",
    "plt.text(4.5,0.66,r'True $\\langle W^2\\rangle$',rotation=90, color='g')\n",
    "\n",
    "plt.savefig(\"jetloss.pdf\", bbox_inches='tight', transparent=True)"
   ]
  },
  {
   "cell_type": "code",
   "execution_count": 47,
   "metadata": {},
   "outputs": [],
   "source": [
    "truth = X_test_1[Y_test_1==1]\n",
    "gen = X_test_1[Y_test_1==0]\n",
    "weights = w_test_1[Y_test_1==0]\n",
    "\n",
    "np.savez('finite_jet_width.npz', losses1=losses_width, losses2= losses_width2, truth=truth, gen=gen, weights=weights)"
   ]
  },
  {
   "cell_type": "code",
   "execution_count": 50,
   "metadata": {},
   "outputs": [],
   "source": [
    "#run this cell directly to load data\n",
    "npzfile = np.load('finite_jet_width.npz')\n",
    "losses_width=npzfile['losses1']\n",
    "losses_width2=npzfile['losses2']\n",
    "\n",
    "truth=npzfile['truth']\n",
    "gen=npzfile['gen']\n",
    "weights=npzfile['weights']"
   ]
  },
  {
   "cell_type": "code",
   "execution_count": 55,
   "metadata": {},
   "outputs": [
    {
     "data": {
      "image/png": "[encoded data removed]",
      "text/plain": [
       "<Figure size 1440x504 with 2 Axes>"
      ]
     },
     "metadata": {
      "needs_background": "light"
     },
     "output_type": "display_data"
    }
   ],
   "source": [
    "fig, ax = plt.subplots(1, 2, figsize=(20, 7))\n",
    "\n",
    "bins = np.linspace(0,1,30)\n",
    "_,_,_=ax[0].hist(truth,alpha=0.5,label=\"truth\", bins=bins)\n",
    "_,_,_=ax[0].hist(gen,alpha=0.5,label=\"gen\", bins=bins)\n",
    "_,_,_=ax[0].hist(gen,weights=weights,histtype=\"step\",color=\"r\",ls=\":\", lw=3,label=\"weighted gen\", bins=bins)\n",
    "ax[0].legend()\n",
    "ax[0].set_xlabel(r\"$x$\")\n",
    "ax[0].set_ylabel(\"Trials\")\n",
    "\n",
    "plt.plot(np.linspace(-2,10,20),losses_width, color='r')\n",
    "plt.text(np.linspace(-2,10,20)[-1]-3.5,losses_width[-1]+0.1, r'$\\langle W\\rangle$', color='r')\n",
    "plt.plot(np.linspace(-2,10,20),losses_width2, color='green')\n",
    "plt.text(np.linspace(-2,10,20)[-1],losses_width2[-1], r'$\\langle W^2\\rangle$', color='green')\n",
    "plt.axvline(2.5,color=\"tab:red\",ls=\":\")\n",
    "plt.axvline(4.5,color=\"tab:green\",ls=\":\")\n",
    "plt.ylim([0.65,0.7])\n",
    "plt.ylabel(\"Loss\")\n",
    "plt.xlabel(\"Moments\")\n",
    "plt.text(2.5,0.66,r'True $\\langle W\\rangle$',rotation=90, color='r')\n",
    "plt.text(4.5,0.66,r'True $\\langle W^2\\rangle$',rotation=90, color='g')\n",
    "\n",
    "\n",
    "\n",
    "\n",
    "\n",
    "plt.savefig(\"finite_jetwidth_combined.pdf\", bbox_inches='tight', transparent=True)\n",
    "plt.show()"
   ]
  },
  {
   "cell_type": "markdown",
   "metadata": {},
   "source": [
    "## Try to do it in one step instead of scanning?"
   ]
  },
  {
   "cell_type": "code",
   "execution_count": null,
   "metadata": {},
   "outputs": [],
   "source": [
    "initializer = tf.keras.initializers.RandomUniform(minval=-5., maxval=5.)\n",
    "\n",
    "class MyLayer(Layer):\n",
    "\n",
    "    def __init__(self, myc, **kwargs):\n",
    "        self.myinit = myc\n",
    "        super(MyLayer, self).__init__(**kwargs)\n",
    "\n",
    "    def build(self, input_shape):\n",
    "        # Create a trainable weight variable for this layer.\n",
    "        self._lambda0 = self.add_weight(name='lambda0', \n",
    "                                    shape=(1,),\n",
    "                                    initializer=tf.keras.initializers.Constant(self.myinit), \n",
    "                                    trainable=True)\n",
    "        self._lambda1 = self.add_weight(name='lambda1', \n",
    "                                    shape=(1,),\n",
    "                                    initializer=tf.keras.initializers.Constant(self.myinit), \n",
    "                                    trainable=True)\n",
    "        super(MyLayer, self).build(input_shape)  # Be sure to call this at the end\n",
    "\n",
    "    def call(self, x):\n",
    "        #return tf.exp(self._lambda1 * x + self._lambda0)\n",
    "        return tf.exp(self._lambda0 * x + self._lambda1 * x**2)\n",
    "\n",
    "myc = 0.1\n",
    "mymodel_inputtest = Input(shape=(1,))\n",
    "mymodel_test = MyLayer(myc)(mymodel_inputtest)\n",
    "model_generator = Model(mymodel_inputtest, mymodel_test)\n",
    "\n",
    "inputs_disc = Input((1, ))\n",
    "hidden_layer_1_disc = Dense(50, activation='relu')(inputs_disc)\n",
    "hidden_layer_2_disc = Dense(50, activation='relu')(hidden_layer_1_disc)\n",
    "hidden_layer_3_disc = Dense(50, activation='relu')(hidden_layer_2_disc)\n",
    "outputs_disc = Dense(1, activation='sigmoid')(hidden_layer_3_disc)\n",
    "model_discrimantor = Model(inputs=inputs_disc, outputs=outputs_disc)\n",
    "\n",
    "def weighted_binary_crossentropy(y_true, y_pred):\n",
    "    weights = tf.gather(y_true, [1], axis=1) # event weights\n",
    "    y_true = tf.gather(y_true, [0], axis=1) # actual y_true for loss\n",
    "    \n",
    "    weights_1 = K.sum(y_true*weights)\n",
    "    weights_0 = K.sum((1-y_true)*weights)\n",
    "    \n",
    "    # Clip the prediction value to prevent NaN's and Inf's\n",
    "    epsilon = K.epsilon()\n",
    "    y_pred = K.clip(y_pred, epsilon, 1. - epsilon)\n",
    "    t_loss = -weights * ((y_true) * K.log(y_pred)/weights_1 +\n",
    "                         (1 - y_true) * K.log(1 - y_pred)/weights_0)\n",
    "    return K.mean(t_loss)\n",
    "\n",
    "model_discrimantor.compile(loss=weighted_binary_crossentropy, optimizer='adam')\n",
    "\n",
    "def weighted_binary_crossentropy_GAN(y_true, y_pred):\n",
    "    weights = tf.gather(y_pred, [1], axis=1) # event weights\n",
    "    y_pred = tf.gather(y_pred, [0], axis=1) # actual y_pred for loss\n",
    "    \n",
    "    weights_1 = K.sum(y_true*weights)\n",
    "    weights_0 = K.sum((1-y_true)*weights)\n",
    "    \n",
    "    #tf.print(\"weights\",weights_0,weights_1)\n",
    "    \n",
    "    # Clip the prediction value to prevent NaN's and Inf's\n",
    "    epsilon = K.epsilon()\n",
    "    y_pred = K.clip(y_pred, epsilon, 1. - epsilon)\n",
    "    t_loss = weights * ((1 - y_true) * K.log(1 - y_pred)/weights_0)\n",
    "    return K.mean(t_loss)\n",
    "    \n",
    "model_discrimantor.trainable = False\n",
    "mymodel_gan = Input(shape=(1,))\n",
    "gan_model = Model(inputs=mymodel_gan,outputs=concatenate([model_discrimantor(mymodel_gan),model_generator(mymodel_gan)]))\n",
    "\n",
    "gan_model.compile(loss=weighted_binary_crossentropy_GAN, optimizer='adam')"
   ]
  },
  {
   "cell_type": "code",
   "execution_count": null,
   "metadata": {},
   "outputs": [],
   "source": [
    "#xvals_1 = np.concatenate([gauss_data,gauss_sim])\n",
    "#yvals_1 = np.concatenate([np.ones(len(gauss_data)),np.zeros(len(gauss_sim))])\n",
    "\n",
    "xvals_1 = np.concatenate([w_true_alt,w_true])\n",
    "yvals_1 = np.concatenate([np.ones(len(w_true_alt)),np.zeros(len(w_true))])\n",
    "\n",
    "X_train_1, X_test_1, Y_train_1, Y_test_1 = train_test_split(xvals_1, yvals_1)\n",
    "\n",
    "n_epochs = 20\n",
    "n_batch = 128*10\n",
    "n_batches = len(X_train_1) // n_batch\n",
    "\n",
    "for i in range(n_epochs):\n",
    "    lambdasum = np.log(model_generator.predict([1.]))\n",
    "    lambdasum2 = np.log(model_generator.predict([2.]))\n",
    "    mylambda1 = (lambdasum2-2*lambdasum)/2\n",
    "    mylambda0 = lambdasum - mylambda1\n",
    "    print(\"on epoch=\",i,mylambda0,mylambda1)\n",
    "    #print(\"  \",np.sum(model_generator.predict(X_train_1,batch_size=1000)))\n",
    "    for j in range(n_batches):\n",
    "        X_batch = X_train_1[j*n_batch:(j+1)*n_batch]\n",
    "        Y_batch = Y_train_1[j*n_batch:(j+1)*n_batch]\n",
    "        W_batch = model_generator(X_batch)\n",
    "        W_batch = np.array(W_batch).flatten()\n",
    "        W_batch[Y_batch==1] = 1\n",
    "        #W_batch[Y_batch==0] = 1\n",
    "        \n",
    "        Y_batch_2 = np.stack((Y_batch, W_batch), axis=1)\n",
    "        \n",
    "        model_discrimantor.train_on_batch(X_batch, Y_batch_2)\n",
    "        \n",
    "        #print(\"      \",j,np.sum(model_generator.predict(X_batch,batch_size=1000)),np.log(model_generator.predict([1.]))-np.log(model_generator.predict([0.])),np.log(model_generator.predict([0.])))\n",
    "        \n",
    "        gan_model.train_on_batch(X_batch[Y_batch==0],np.zeros(len(X_batch[Y_batch==0])))"
   ]
  },
  {
   "cell_type": "code",
   "execution_count": null,
   "metadata": {},
   "outputs": [],
   "source": [
    "lambda0 = 6.5\n",
    "lambda1 = -9.3\n",
    "xvals_1 = np.concatenate([w_true_alt,w_true])\n",
    "yvals_1 = np.concatenate([np.ones(len(w_true_alt)),np.zeros(len(w_true))])\n",
    "weights_1 = np.concatenate([np.ones(len(w_true_alt)),np.exp(lambda1*w_true**2+lambda0*w_true)*len(w_true_alt)/np.sum(np.exp(lambda1*w_true**2+lambda0*w_true))])\n",
    "\n",
    "X_train_1, X_test_1, Y_train_1, Y_test_1, w_train_1, w_test_1 = train_test_split(xvals_1, yvals_1, weights_1)\n",
    "\n",
    "print(np.mean(X_test_1[Y_test_1==1]**2),np.mean(X_test_1[Y_test_1==0]**2),np.average(X_test_1[Y_test_1==0]**2,weights=w_test_1[Y_test_1==0]))\n",
    "print(np.mean(X_test_1[Y_test_1==1]),np.mean(X_test_1[Y_test_1==0]),np.average(X_test_1[Y_test_1==0],weights=w_test_1[Y_test_1==0]))"
   ]
  },
  {
   "cell_type": "markdown",
   "metadata": {},
   "source": [
    "## 3 Moments"
   ]
  },
  {
   "cell_type": "code",
   "execution_count": null,
   "metadata": {},
   "outputs": [],
   "source": [
    "initializer = tf.keras.initializers.RandomUniform(minval=-5., maxval=5.)\n",
    "\n",
    "class MyLayer(Layer):\n",
    "\n",
    "    def __init__(self, myc, **kwargs):\n",
    "        self.myinit = myc\n",
    "        super(MyLayer, self).__init__(**kwargs)\n",
    "\n",
    "    def build(self, input_shape):\n",
    "        # Create a trainable weight variable for this layer.\n",
    "        self._lambda0 = self.add_weight(name='lambda0', \n",
    "                                    shape=(1,),\n",
    "                                    initializer=tf.keras.initializers.Constant(self.myinit), \n",
    "                                    trainable=True)\n",
    "        self._lambda1 = self.add_weight(name='lambda1', \n",
    "                                    shape=(1,),\n",
    "                                    initializer=tf.keras.initializers.Constant(self.myinit), \n",
    "                                    trainable=True)\n",
    "        self._lambda2 = self.add_weight(name='lambda1', \n",
    "                            shape=(1,),\n",
    "                            initializer=tf.keras.initializers.Constant(self.myinit), \n",
    "                            trainable=True)\n",
    "        super(MyLayer, self).build(input_shape)  # Be sure to call this at the end\n",
    "\n",
    "    def call(self, x):\n",
    "        #return tf.exp(self._lambda1 * x + self._lambda0)\n",
    "        return tf.exp(self._lambda0 * x + self._lambda1 * x**2 + self._lambda2 * x**3)\n",
    "\n",
    "myc = 0.1\n",
    "mymodel_inputtest = Input(shape=(1,))\n",
    "mymodel_test = MyLayer(myc)(mymodel_inputtest)\n",
    "model_generator = Model(mymodel_inputtest, mymodel_test)\n",
    "\n",
    "inputs_disc = Input((1, ))\n",
    "hidden_layer_1_disc = Dense(50, activation='relu')(inputs_disc)\n",
    "hidden_layer_2_disc = Dense(50, activation='relu')(hidden_layer_1_disc)\n",
    "hidden_layer_3_disc = Dense(50, activation='relu')(hidden_layer_2_disc)\n",
    "outputs_disc = Dense(1, activation='sigmoid')(hidden_layer_3_disc)\n",
    "model_discrimantor = Model(inputs=inputs_disc, outputs=outputs_disc)\n",
    "\n",
    "def weighted_binary_crossentropy(y_true, y_pred):\n",
    "    weights = tf.gather(y_true, [1], axis=1) # event weights\n",
    "    y_true = tf.gather(y_true, [0], axis=1) # actual y_true for loss\n",
    "    \n",
    "    weights_1 = K.sum(y_true*weights)\n",
    "    weights_0 = K.sum((1-y_true)*weights)\n",
    "    \n",
    "    # Clip the prediction value to prevent NaN's and Inf's\n",
    "    epsilon = K.epsilon()\n",
    "    y_pred = K.clip(y_pred, epsilon, 1. - epsilon)\n",
    "    t_loss = -weights * ((y_true) * K.log(y_pred)/weights_1 +\n",
    "                         (1 - y_true) * K.log(1 - y_pred)/weights_0)\n",
    "    return K.mean(t_loss)\n",
    "\n",
    "model_discrimantor.compile(loss=weighted_binary_crossentropy, optimizer='adam')\n",
    "\n",
    "def weighted_binary_crossentropy_GAN(y_true, y_pred):\n",
    "    weights = tf.gather(y_pred, [1], axis=1) # event weights\n",
    "    y_pred = tf.gather(y_pred, [0], axis=1) # actual y_pred for loss\n",
    "    \n",
    "    weights_1 = K.sum(y_true*weights)\n",
    "    weights_0 = K.sum((1-y_true)*weights)\n",
    "    \n",
    "    #tf.print(\"weights\",weights_0,weights_1)\n",
    "    \n",
    "    # Clip the prediction value to prevent NaN's and Inf's\n",
    "    epsilon = K.epsilon()\n",
    "    y_pred = K.clip(y_pred, epsilon, 1. - epsilon)\n",
    "    t_loss = weights * ((1 - y_true) * K.log(1 - y_pred)/weights_0)\n",
    "    return K.mean(t_loss)\n",
    "    \n",
    "model_discrimantor.trainable = False\n",
    "mymodel_gan = Input(shape=(1,))\n",
    "gan_model = Model(inputs=mymodel_gan,outputs=concatenate([model_discrimantor(mymodel_gan),model_generator(mymodel_gan)]))\n",
    "\n",
    "gan_model.compile(loss=weighted_binary_crossentropy_GAN, optimizer='adam')"
   ]
  },
  {
   "cell_type": "code",
   "execution_count": null,
   "metadata": {},
   "outputs": [],
   "source": [
    "#xvals_1 = np.concatenate([gauss_data,gauss_sim])\n",
    "#yvals_1 = np.concatenate([np.ones(len(gauss_data)),np.zeros(len(gauss_sim))])\n",
    "\n",
    "xvals_1 = np.concatenate([w_true_alt,w_true])\n",
    "yvals_1 = np.concatenate([np.ones(len(w_true_alt)),np.zeros(len(w_true))])\n",
    "\n",
    "X_train_1, X_test_1, Y_train_1, Y_test_1 = train_test_split(xvals_1, yvals_1)\n",
    "\n",
    "n_epochs = 20\n",
    "n_batch = 128*10\n",
    "n_batches = len(X_train_1) // n_batch\n",
    "\n",
    "for i in range(n_epochs):\n",
    "    A = np.log(model_generator.predict([1.]))\n",
    "    B = np.log(model_generator.predict([2.]))\n",
    "    C = np.log(model_generator.predict([-1.]))\n",
    "    mylambda0 = A - B/3 - C/3\n",
    "    mylambda1 = (A + C)/2\n",
    "    mylambda2 = (-3*A + 2*B - C)/6\n",
    "    print(\"on epoch=\",i,mylambda0,mylambda1, mylambda2)\n",
    "    #print(\"  \",np.sum(model_generator.predict(X_train_1,batch_size=1000)))\n",
    "    for j in range(n_batches):\n",
    "        X_batch = X_train_1[j*n_batch:(j+1)*n_batch]\n",
    "        Y_batch = Y_train_1[j*n_batch:(j+1)*n_batch]\n",
    "        W_batch = model_generator(X_batch)\n",
    "        W_batch = np.array(W_batch).flatten()\n",
    "        W_batch[Y_batch==1] = 1\n",
    "        #W_batch[Y_batch==0] = 1\n",
    "        \n",
    "        Y_batch_2 = np.stack((Y_batch, W_batch), axis=1)\n",
    "        \n",
    "        model_discrimantor.train_on_batch(X_batch, Y_batch_2)\n",
    "        \n",
    "        #print(\"      \",j,np.sum(model_generator.predict(X_batch,batch_size=1000)),np.log(model_generator.predict([1.]))-np.log(model_generator.predict([0.])),np.log(model_generator.predict([0.])))\n",
    "        \n",
    "        gan_model.train_on_batch(X_batch[Y_batch==0],np.zeros(len(X_batch[Y_batch==0])))"
   ]
  },
  {
   "cell_type": "code",
   "execution_count": null,
   "metadata": {},
   "outputs": [],
   "source": [
    "lambda0, lambda1, lambda2 = model_generator.layers[-1].get_weights()\n",
    "xvals_1 = np.concatenate([w_true_alt,w_true])\n",
    "yvals_1 = np.concatenate([np.ones(len(w_true_alt)),np.zeros(len(w_true))])\n",
    "weights_1 = np.concatenate([np.ones(len(w_true_alt)),np.exp(lambda2*w_true**3+lambda1*w_true**2+lambda0*w_true)*len(w_true_alt)/np.sum(np.exp(lambda1*w_true**2+lambda0*w_true))])\n",
    "\n",
    "X_train_1, X_test_1, Y_train_1, Y_test_1, w_train_1, w_test_1 = train_test_split(xvals_1, yvals_1, weights_1)\n",
    "\n",
    "#data, simulation w/o weights, weighted simulation\n",
    "print(np.mean(X_test_1[Y_test_1==1]**2),np.mean(X_test_1[Y_test_1==0]**2),np.average(X_test_1[Y_test_1==0]**2,weights=w_test_1[Y_test_1==0]))\n",
    "#\n",
    "print(np.mean(X_test_1[Y_test_1==1]),np.mean(X_test_1[Y_test_1==0]),np.average(X_test_1[Y_test_1==0],weights=w_test_1[Y_test_1==0]))\n",
    "\n",
    "print(np.mean(X_test_1[Y_test_1==1]**3),np.mean(X_test_1[Y_test_1==0]**3),np.average(X_test_1[Y_test_1==0]**3,weights=w_test_1[Y_test_1==0]))"
   ]
  },
  {
   "cell_type": "code",
   "execution_count": null,
   "metadata": {},
   "outputs": [],
   "source": [
    "model_generator.layers[-1].get_weights()"
   ]
  },
  {
   "cell_type": "markdown",
   "metadata": {},
   "source": [
    "## Now unfold all at once"
   ]
  },
  {
   "cell_type": "code",
   "execution_count": null,
   "metadata": {},
   "outputs": [],
   "source": [
    "#mymodel_inputtest_unifold = Input(shape=(1,))\n",
    "#hidden_layer_1_unifold = Dense(50, activation='LeakyReLU',use_bias=False)(mymodel_inputtest_unifold)\n",
    "#batch_norm_1_unifold = BatchNormalization()(hidden_layer_1_unifold)\n",
    "#hidden_layer_2_unifold = Dense(50, activation='LeakyReLU',use_bias=False)(batch_norm_1_unifold)\n",
    "#batch_norm_2_unifold = BatchNormalization()(hidden_layer_2_unifold)\n",
    "#hidden_layer_3_unifold = Dense(50, activation='LeakyReLU',use_bias=False)(batch_norm_2_unifold)\n",
    "#outputs_unifold = Dense(1, activation='sigmoid',use_bias=False)(hidden_layer_3_unifold) #tanh\n",
    "#model_generator_unifold = Model(mymodel_inputtest_unifold, outputs_unifold) #tf.exp(10*outputs_unifold))\n",
    "\n",
    "mymodel_inputtest_unifold = Input(shape=(1,))\n",
    "hidden_layer_1_unifold = Dense(50, activation='ReLU',use_bias=True)(mymodel_inputtest_unifold)\n",
    "batch_norm_1_unifold = BatchNormalization()(hidden_layer_1_unifold)\n",
    "hidden_layer_2_unifold = Dense(50, activation='ReLU',use_bias=True)(batch_norm_1_unifold)\n",
    "batch_norm_2_unifold = BatchNormalization()(hidden_layer_2_unifold)\n",
    "hidden_layer_3_unifold = Dense(50, activation='ReLU',use_bias=True)(batch_norm_2_unifold)\n",
    "outputs_unifold = Dense(1, activation='sigmoid',use_bias=True)(hidden_layer_3_unifold) #tanh\n",
    "model_generator_unifold = Model(mymodel_inputtest_unifold, outputs_unifold)\n",
    "\n",
    "inputs_disc_unifold = Input((1, ))\n",
    "hidden_layer_1_disc_unifold = Dense(50, activation='LeakyReLU')(inputs_disc_unifold)\n",
    "batch_norm_1_disc_unifold = BatchNormalization()(hidden_layer_1_disc_unifold)\n",
    "hidden_layer_2_disc_unifold = Dense(50, activation='LeakyReLU')(batch_norm_1_disc_unifold)\n",
    "batch_norm_2_disc_unifold = BatchNormalization()(hidden_layer_2_disc_unifold)\n",
    "hidden_layer_3_disc_unifold = Dense(50, activation='LeakyReLU')(batch_norm_2_disc_unifold)\n",
    "outputs_disc_unifold = Dense(1, activation='sigmoid')(hidden_layer_3_disc_unifold)\n",
    "model_discrimantor_unifold = Model(inputs=inputs_disc_unifold, outputs=outputs_disc_unifold)\n",
    "\n",
    "opt = tf.keras.optimizers.Adam(learning_rate=1e-4)\n",
    "#opt2 = tf.keras.optimizers.Adam(learning_rate=1e-4)\n",
    "\n",
    "model_discrimantor_unifold.compile(loss=weighted_binary_crossentropy, optimizer=opt)\n",
    "    \n",
    "model_discrimantor_unifold.trainable = False\n",
    "mymodel_gan_unifold = Input(shape=(1,))\n",
    "gan_model_unifold = Model(inputs=mymodel_gan_unifold,outputs=concatenate([model_discrimantor_unifold(mymodel_gan_unifold),model_generator_unifold(mymodel_gan_unifold)]))\n",
    "\n",
    "gan_model_unifold.compile(loss=weighted_binary_crossentropy_GAN, optimizer=opt)"
   ]
  },
  {
   "cell_type": "code",
   "execution_count": null,
   "metadata": {},
   "outputs": [],
   "source": [
    "xvals_1 = np.concatenate([w_true_alt,w_true])\n",
    "yvals_1 = np.concatenate([np.ones(len(w_true_alt)),np.zeros(len(w_true))])\n",
    "\n",
    "#xvals_1 = np.concatenate([w_true_alt,w_true])\n",
    "#yvals_1 = np.concatenate([np.ones(len(w_true_alt)),np.zeros(len(w_true))])\n",
    "\n",
    "X_std = (xvals_1 - xvals_1.min(axis=0)) / (xvals_1.max(axis=0) - xvals_1.min(axis=0))\n",
    "xvals_1 = X_std * (np.max(xvals_1) - np.min(xvals_1)) + np.min(xvals_1)\n",
    "\n",
    "X_train_1, X_test_1, Y_train_1, Y_test_1 = train_test_split(xvals_1, yvals_1)\n",
    "\n",
    "n_epochs = 10\n",
    "n_batch = 128*10\n",
    "n_batches = len(X_train_1) // n_batch\n",
    "\n",
    "for i in range(n_epochs):\n",
    "    mypreds = model_generator_unifold.predict(X_test_1,batch_size=1000)\n",
    "    print(\"on epoch=\",i,np.mean(mypreds),np.min(mypreds),np.max(mypreds))\n",
    "    for j in range(n_batches):\n",
    "        X_batch = X_train_1[j*n_batch:(j+1)*n_batch]\n",
    "        Y_batch = Y_train_1[j*n_batch:(j+1)*n_batch]\n",
    "        W_batch = model_generator_unifold(X_batch)\n",
    "        W_batch = np.array(W_batch).flatten()\n",
    "        W_batch[Y_batch==1] = 1\n",
    "        #W_batch[Y_batch==0] = 1\n",
    "        \n",
    "        mypreds = model_generator_unifold.predict(X_batch,batch_size=1000)\n",
    "        #print(\"     on batch=\",j,np.mean(mypreds),np.min(mypreds),np.max(mypreds))\n",
    "        \n",
    "        Y_batch_2 = np.stack((Y_batch, W_batch), axis=1)\n",
    "        \n",
    "        if (i%3==0):\n",
    "            model_discrimantor_unifold.train_on_batch(X_batch, Y_batch_2)\n",
    "        \n",
    "        gan_model_unifold.train_on_batch(X_batch[Y_batch==0],np.zeros(len(X_batch[Y_batch==0])))"
   ]
  },
  {
   "cell_type": "code",
   "execution_count": null,
   "metadata": {},
   "outputs": [],
   "source": [
    "mypreds = model_generator_unifold.predict(X_test_1,batch_size=1000)"
   ]
  },
  {
   "cell_type": "code",
   "execution_count": null,
   "metadata": {},
   "outputs": [],
   "source": [
    "#bins = np.linspace(0,1,30)\n",
    "fig, ax = plt.subplots(figsize=(8, 6))\n",
    "ax.xaxis.label.set_color('white')        #setting up X-axis label color to yellow\n",
    "ax.yaxis.label.set_color('white')          #setting up Y-axis label color to blue\n",
    "\n",
    "ax.tick_params(axis='x', colors='white')    #setting up X-axis tick color to red\n",
    "ax.tick_params(axis='y', colors='white')  #setting up Y-axis tick color to black\n",
    "\n",
    "ax.spines['left'].set_color('white')        # setting up Y-axis tick color to red\n",
    "ax.spines['top'].set_color('white')\n",
    "ax.spines['right'].set_color('white') \n",
    "ax.spines['bottom'].set_color('white') \n",
    "bins = np.linspace(0,0.5,20)\n",
    "_,_,_=plt.hist(X_test_1[Y_test_1==1],bins=bins,alpha=0.5,label=\"data\",density=True, zorder=-1)\n",
    "_,_,_=plt.hist(X_test_1[Y_test_1==0],bins=bins,alpha=0.5,label=\"MC\",density=True, zorder=0)\n",
    "_,_,_=plt.hist(X_test_1[Y_test_1==0],bins=bins,weights=mypreds[Y_test_1==0],histtype=\"step\",color=\"red\",ls=\":\", lw=2,label=\"weighted MC\",density=True, zorder=1)\n",
    "plt.legend(fontsize=15)\n",
    "plt.ylabel(\"Trials\")\n",
    "plt.xlabel(\"jet width\")\n",
    "plt.savefig(\"Unifold.pdf\", bbox_inches='tight', transparent=True)\n",
    "plt.show()"
   ]
  },
  {
   "cell_type": "code",
   "execution_count": null,
   "metadata": {},
   "outputs": [],
   "source": [
    "plt.scatter(bins,model_generator_unifold.predict(bins))\n",
    "plt.show()"
   ]
  },
  {
   "cell_type": "code",
   "execution_count": null,
   "metadata": {},
   "outputs": [],
   "source": []
  }
 ],
 "metadata": {
  "kernelspec": {
   "display_name": "NERSC Python",
   "language": "python",
   "name": "python3"
  },
  "language_info": {
   "codemirror_mode": {
    "name": "ipython",
    "version": 3
   },
   "file_extension": ".py",
   "mimetype": "text/x-python",
   "name": "python",
   "nbconvert_exporter": "python",
   "pygments_lexer": "ipython3",
   "version": "3.11.6"
  }
 },
 "nbformat": 4,
 "nbformat_minor": 4
}
